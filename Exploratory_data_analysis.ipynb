{
  "nbformat": 4,
  "nbformat_minor": 0,
  "metadata": {
    "colab": {
      "name": "Untitled21.ipynb",
      "provenance": [],
      "authorship_tag": "ABX9TyNMFp0pUg8/dHVd9Rhkys0O",
      "include_colab_link": true
    },
    "kernelspec": {
      "name": "python3",
      "display_name": "Python 3"
    }
  },
  "cells": [
    {
      "cell_type": "markdown",
      "metadata": {
        "id": "view-in-github",
        "colab_type": "text"
      },
      "source": [
        "<a href=\"https://colab.research.google.com/github/surajgazi100/DATA_SCIENCE_STATISTICS/blob/main/Exploratory_data_analysis.ipynb\" target=\"_parent\"><img src=\"https://colab.research.google.com/assets/colab-badge.svg\" alt=\"Open In Colab\"/></a>"
      ]
    },
    {
      "cell_type": "markdown",
      "metadata": {
        "id": "drETxy77Eo_b"
      },
      "source": [
        "# Exploratory Data Analysis(EDA) in Python!\n",
        "Introduction\n",
        "\n",
        "Exploratory data analysis is one of the best practices used in data science today. While starting a career in Data Science, people generally don’t know the difference between Data analysis and exploratory data analysis. There is not a very big difference between the two, but both have different purposes.\n",
        "\n",
        "Exploratory Data Analysis(EDA): Exploratory data analysis is a complement to inferential statistics, which tends to be fairly rigid with rules and formulas. At an advanced level, EDA involves looking at and describing the data set from different angles and then summarizing it.\n",
        "\n",
        "\n",
        "Data Analysis: Data Analysis is the statistics and probability to figure out trends in the data set. It is used to show historical data by using some analytics tools. It helps in drilling down the information, to transform metrics, facts, and figures into initiatives for improvement."
      ]
    },
    {
      "cell_type": "markdown",
      "metadata": {
        "id": "11IHfegvE8vf"
      },
      "source": [
        "# **Exploratory Data Analysis(EDA)**\n",
        "We will explore a Data set and perform the exploratory data analysis. The major topics to be covered are below:\n",
        "\n",
        "– Handle Missing value\n",
        "\n",
        "– Removing duplicates\n",
        "\n",
        "– Outlier Treatment\n",
        "\n",
        "– Normalizing and Scaling( Numerical Variables)\n",
        "\n",
        "\n",
        "– Encoding Categorical variables( Dummy Variables)\n",
        "\n",
        "– Bivariate Analysis\n",
        "[link text](https://www.analyticsvidhya.com/blog/2020/08/exploratory-data-analysiseda-from-scratch-in-python/)"
      ]
    },
    {
      "cell_type": "code",
      "metadata": {
        "id": "5MwnhisfEiVU"
      },
      "source": [
        ""
      ],
      "execution_count": null,
      "outputs": []
    }
  ]
}