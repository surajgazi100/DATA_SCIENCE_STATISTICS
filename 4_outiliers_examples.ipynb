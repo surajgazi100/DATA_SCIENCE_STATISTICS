{
  "nbformat": 4,
  "nbformat_minor": 0,
  "metadata": {
    "colab": {
      "name": "4.outiliers_examples.ipynb",
      "provenance": [],
      "authorship_tag": "ABX9TyOjP4uezst19nAkuAy+Gw1W",
      "include_colab_link": true
    },
    "kernelspec": {
      "name": "python3",
      "display_name": "Python 3"
    }
  },
  "cells": [
    {
      "cell_type": "markdown",
      "metadata": {
        "id": "view-in-github",
        "colab_type": "text"
      },
      "source": [
        "<a href=\"https://colab.research.google.com/github/surajgazi100/DATA_SCIENCE_STATISTICS/blob/main/4_outiliers_examples.ipynb\" target=\"_parent\"><img src=\"https://colab.research.google.com/assets/colab-badge.svg\" alt=\"Open In Colab\"/></a>"
      ]
    },
    {
      "cell_type": "code",
      "metadata": {
        "id": "TkG8-SozcbcO"
      },
      "source": [
        "import pandas as pd\n",
        "import numpy as np\n",
        "from matplotlib import pyplot as plt\n",
        "%matplotlib inline\n",
        "\n"
      ],
      "execution_count": 6,
      "outputs": []
    },
    {
      "cell_type": "code",
      "metadata": {
        "id": "iNNiBIH9dATh",
        "outputId": "52f84bda-5bb9-4ec4-8fd7-09808821345c",
        "colab": {
          "base_uri": "https://localhost:8080/",
          "height": 134
        }
      },
      "source": [
        "pip install matplotlib"
      ],
      "execution_count": 4,
      "outputs": [
        {
          "output_type": "stream",
          "text": [
            "Requirement already satisfied: matplotlib in /usr/local/lib/python3.6/dist-packages (3.2.2)\n",
            "Requirement already satisfied: kiwisolver>=1.0.1 in /usr/local/lib/python3.6/dist-packages (from matplotlib) (1.2.0)\n",
            "Requirement already satisfied: python-dateutil>=2.1 in /usr/local/lib/python3.6/dist-packages (from matplotlib) (2.8.1)\n",
            "Requirement already satisfied: pyparsing!=2.0.4,!=2.1.2,!=2.1.6,>=2.0.1 in /usr/local/lib/python3.6/dist-packages (from matplotlib) (2.4.7)\n",
            "Requirement already satisfied: numpy>=1.11 in /usr/local/lib/python3.6/dist-packages (from matplotlib) (1.18.5)\n",
            "Requirement already satisfied: cycler>=0.10 in /usr/local/lib/python3.6/dist-packages (from matplotlib) (0.10.0)\n",
            "Requirement already satisfied: six>=1.5 in /usr/local/lib/python3.6/dist-packages (from python-dateutil>=2.1->matplotlib) (1.15.0)\n"
          ],
          "name": "stdout"
        }
      ]
    },
    {
      "cell_type": "code",
      "metadata": {
        "id": "TIIt59thcr9l",
        "outputId": "62c658fa-08e7-4295-b3ae-d06daf814932",
        "colab": {
          "resources": {
            "http://localhost:8080/nbextensions/google.colab/files.js": {
              "data": "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",
              "ok": true,
              "headers": [
                [
                  "content-type",
                  "application/javascript"
                ]
              ],
              "status": 200,
              "status_text": ""
            }
          },
          "base_uri": "https://localhost:8080/",
          "height": 73
        }
      },
      "source": [
        "\n",
        "from google.colab import files\n",
        "uploaded = files.upload()"
      ],
      "execution_count": 2,
      "outputs": [
        {
          "output_type": "display_data",
          "data": {
            "text/html": [
              "\n",
              "     <input type=\"file\" id=\"files-07e04635-ae2e-4af7-b4c3-9f9b39329250\" name=\"files[]\" multiple disabled\n",
              "        style=\"border:none\" />\n",
              "     <output id=\"result-07e04635-ae2e-4af7-b4c3-9f9b39329250\">\n",
              "      Upload widget is only available when the cell has been executed in the\n",
              "      current browser session. Please rerun this cell to enable.\n",
              "      </output>\n",
              "      <script src=\"/nbextensions/google.colab/files.js\"></script> "
            ],
            "text/plain": [
              "<IPython.core.display.HTML object>"
            ]
          },
          "metadata": {
            "tags": []
          }
        },
        {
          "output_type": "stream",
          "text": [
            "Saving weight-height.csv to weight-height.csv\n"
          ],
          "name": "stdout"
        }
      ]
    },
    {
      "cell_type": "code",
      "metadata": {
        "id": "TtQ0PUXzcxlj",
        "outputId": "5111d484-b353-48af-dd45-c935dadd2862",
        "colab": {
          "base_uri": "https://localhost:8080/",
          "height": 195
        }
      },
      "source": [
        "\n",
        "df = pd.read_csv(\"weight-height.csv\")\n",
        "df.sample(5)"
      ],
      "execution_count": 7,
      "outputs": [
        {
          "output_type": "execute_result",
          "data": {
            "text/html": [
              "<div>\n",
              "<style scoped>\n",
              "    .dataframe tbody tr th:only-of-type {\n",
              "        vertical-align: middle;\n",
              "    }\n",
              "\n",
              "    .dataframe tbody tr th {\n",
              "        vertical-align: top;\n",
              "    }\n",
              "\n",
              "    .dataframe thead th {\n",
              "        text-align: right;\n",
              "    }\n",
              "</style>\n",
              "<table border=\"1\" class=\"dataframe\">\n",
              "  <thead>\n",
              "    <tr style=\"text-align: right;\">\n",
              "      <th></th>\n",
              "      <th>Gender</th>\n",
              "      <th>Height</th>\n",
              "      <th>Weight</th>\n",
              "    </tr>\n",
              "  </thead>\n",
              "  <tbody>\n",
              "    <tr>\n",
              "      <th>5519</th>\n",
              "      <td>Female</td>\n",
              "      <td>65.819007</td>\n",
              "      <td>170.627119</td>\n",
              "    </tr>\n",
              "    <tr>\n",
              "      <th>7369</th>\n",
              "      <td>Female</td>\n",
              "      <td>61.043445</td>\n",
              "      <td>113.182538</td>\n",
              "    </tr>\n",
              "    <tr>\n",
              "      <th>9896</th>\n",
              "      <td>Female</td>\n",
              "      <td>62.702909</td>\n",
              "      <td>142.218519</td>\n",
              "    </tr>\n",
              "    <tr>\n",
              "      <th>7058</th>\n",
              "      <td>Female</td>\n",
              "      <td>63.767815</td>\n",
              "      <td>134.751637</td>\n",
              "    </tr>\n",
              "    <tr>\n",
              "      <th>6260</th>\n",
              "      <td>Female</td>\n",
              "      <td>62.759177</td>\n",
              "      <td>134.744757</td>\n",
              "    </tr>\n",
              "  </tbody>\n",
              "</table>\n",
              "</div>"
            ],
            "text/plain": [
              "      Gender     Height      Weight\n",
              "5519  Female  65.819007  170.627119\n",
              "7369  Female  61.043445  113.182538\n",
              "9896  Female  62.702909  142.218519\n",
              "7058  Female  63.767815  134.751637\n",
              "6260  Female  62.759177  134.744757"
            ]
          },
          "metadata": {
            "tags": []
          },
          "execution_count": 7
        }
      ]
    },
    {
      "cell_type": "code",
      "metadata": {
        "id": "cJSYZe1GdUZr",
        "outputId": "70ce3529-b2ed-44bc-d0e9-180c5b53e9ca",
        "colab": {
          "base_uri": "https://localhost:8080/",
          "height": 279
        }
      },
      "source": [
        "plt.hist(df.Height, bins=20, rwidth=0.8)\n",
        "plt.xlabel('Height (inches)')\n",
        "plt.ylabel('Count')\n",
        "plt.show()\n"
      ],
      "execution_count": 9,
      "outputs": [
        {
          "output_type": "display_data",
          "data": {
            "image/png": "[encoded data removed]",
            "text/plain": [
              "<Figure size 432x288 with 1 Axes>"
            ]
          },
          "metadata": {
            "tags": [],
            "needs_background": "light"
          }
        }
      ]
    },
    {
      "cell_type": "code",
      "metadata": {
        "id": "JhoH0ju8dfPj",
        "outputId": "46e34b43-2abe-4b7a-a0f5-85f929cbecab",
        "colab": {
          "base_uri": "https://localhost:8080/",
          "height": 296
        }
      },
      "source": [
        "from scipy.stats import norm\n",
        "import numpy as np\n",
        "plt.hist(df.Height, bins=20, rwidth=0.8, density=True)\n",
        "plt.xlabel('Height (inches)')\n",
        "plt.ylabel('Count')\n",
        "\n",
        "rng = np.arange(df.Height.min(), df.Height.max(), 0.1)\n",
        "plt.plot(rng, norm.pdf(rng,df.Height.mean(),df.Height.std()))\n"
      ],
      "execution_count": 13,
      "outputs": [
        {
          "output_type": "execute_result",
          "data": {
            "text/plain": [
              "[<matplotlib.lines.Line2D at 0x7f6c019fad30>]"
            ]
          },
          "metadata": {
            "tags": []
          },
          "execution_count": 13
        },
        {
          "output_type": "display_data",
          "data": {
            "image/png": "[encoded data removed]",
            "text/plain": [
              "<Figure size 432x288 with 1 Axes>"
            ]
          },
          "metadata": {
            "tags": [],
            "needs_background": "light"
          }
        }
      ]
    },
    {
      "cell_type": "code",
      "metadata": {
        "id": "6mizXSn1dzCd",
        "outputId": "3e9174ad-b630-444f-b60b-06d62e560219",
        "colab": {
          "base_uri": "https://localhost:8080/",
          "height": 34
        }
      },
      "source": [
        "df.Height.mean()"
      ],
      "execution_count": 15,
      "outputs": [
        {
          "output_type": "execute_result",
          "data": {
            "text/plain": [
              "66.36755975482106"
            ]
          },
          "metadata": {
            "tags": []
          },
          "execution_count": 15
        }
      ]
    },
    {
      "cell_type": "code",
      "metadata": {
        "id": "UOJ4zKH-d3-E",
        "outputId": "d98ea780-7c8c-4a57-84b1-ed42e12c8463",
        "colab": {
          "base_uri": "https://localhost:8080/",
          "height": 34
        }
      },
      "source": [
        "df.Height.std()\n"
      ],
      "execution_count": 17,
      "outputs": [
        {
          "output_type": "execute_result",
          "data": {
            "text/plain": [
              "3.847528120773233"
            ]
          },
          "metadata": {
            "tags": []
          },
          "execution_count": 17
        }
      ]
    },
    {
      "cell_type": "markdown",
      "metadata": {
        "id": "RQDasghseAC9"
      },
      "source": [
        "Here the mean is 66.37 and standard deviation is 3.84.\n",
        "\n",
        "(1) Outlier detection and removal using 3 standard deviation\n",
        "One of the ways we can remove outliers is remove any data points that are beyond 3 standard deviation from mean. Which means we can come up with following upper and lower bounds"
      ]
    },
    {
      "cell_type": "code",
      "metadata": {
        "id": "fGE8_P7neBa-",
        "outputId": "a8c29e04-591b-45b7-aa7f-11667a8fb4fe",
        "colab": {
          "base_uri": "https://localhost:8080/",
          "height": 34
        }
      },
      "source": [
        "upper_limit = df.Height.mean() + 3*df.Height.std()\n",
        "upper_limit"
      ],
      "execution_count": 19,
      "outputs": [
        {
          "output_type": "execute_result",
          "data": {
            "text/plain": [
              "77.91014411714076"
            ]
          },
          "metadata": {
            "tags": []
          },
          "execution_count": 19
        }
      ]
    },
    {
      "cell_type": "code",
      "metadata": {
        "id": "IrvvfnMVeKnG",
        "outputId": "24b94608-32d3-447c-94e1-9ae49e38ed40",
        "colab": {
          "base_uri": "https://localhost:8080/",
          "height": 34
        }
      },
      "source": [
        "lower_limit = df.Height.mean() -3*df.Height.std()\n",
        "lower_limit"
      ],
      "execution_count": 21,
      "outputs": [
        {
          "output_type": "execute_result",
          "data": {
            "text/plain": [
              "54.82497539250136"
            ]
          },
          "metadata": {
            "tags": []
          },
          "execution_count": 21
        }
      ]
    },
    {
      "cell_type": "code",
      "metadata": {
        "id": "rsv71P5geU0X",
        "outputId": "f7d1aca9-c0e2-4737-bdcf-d097bac352b6",
        "colab": {
          "base_uri": "https://localhost:8080/",
          "height": 254
        }
      },
      "source": [
        "df[(df.Height>upper_limit) | (df.Height<lower_limit)]"
      ],
      "execution_count": 23,
      "outputs": [
        {
          "output_type": "execute_result",
          "data": {
            "text/html": [
              "<div>\n",
              "<style scoped>\n",
              "    .dataframe tbody tr th:only-of-type {\n",
              "        vertical-align: middle;\n",
              "    }\n",
              "\n",
              "    .dataframe tbody tr th {\n",
              "        vertical-align: top;\n",
              "    }\n",
              "\n",
              "    .dataframe thead th {\n",
              "        text-align: right;\n",
              "    }\n",
              "</style>\n",
              "<table border=\"1\" class=\"dataframe\">\n",
              "  <thead>\n",
              "    <tr style=\"text-align: right;\">\n",
              "      <th></th>\n",
              "      <th>Gender</th>\n",
              "      <th>Height</th>\n",
              "      <th>Weight</th>\n",
              "    </tr>\n",
              "  </thead>\n",
              "  <tbody>\n",
              "    <tr>\n",
              "      <th>994</th>\n",
              "      <td>Male</td>\n",
              "      <td>78.095867</td>\n",
              "      <td>255.690835</td>\n",
              "    </tr>\n",
              "    <tr>\n",
              "      <th>1317</th>\n",
              "      <td>Male</td>\n",
              "      <td>78.462053</td>\n",
              "      <td>227.342565</td>\n",
              "    </tr>\n",
              "    <tr>\n",
              "      <th>2014</th>\n",
              "      <td>Male</td>\n",
              "      <td>78.998742</td>\n",
              "      <td>269.989699</td>\n",
              "    </tr>\n",
              "    <tr>\n",
              "      <th>3285</th>\n",
              "      <td>Male</td>\n",
              "      <td>78.528210</td>\n",
              "      <td>253.889004</td>\n",
              "    </tr>\n",
              "    <tr>\n",
              "      <th>3757</th>\n",
              "      <td>Male</td>\n",
              "      <td>78.621374</td>\n",
              "      <td>245.733783</td>\n",
              "    </tr>\n",
              "    <tr>\n",
              "      <th>6624</th>\n",
              "      <td>Female</td>\n",
              "      <td>54.616858</td>\n",
              "      <td>71.393749</td>\n",
              "    </tr>\n",
              "    <tr>\n",
              "      <th>9285</th>\n",
              "      <td>Female</td>\n",
              "      <td>54.263133</td>\n",
              "      <td>64.700127</td>\n",
              "    </tr>\n",
              "  </tbody>\n",
              "</table>\n",
              "</div>"
            ],
            "text/plain": [
              "      Gender     Height      Weight\n",
              "994     Male  78.095867  255.690835\n",
              "1317    Male  78.462053  227.342565\n",
              "2014    Male  78.998742  269.989699\n",
              "3285    Male  78.528210  253.889004\n",
              "3757    Male  78.621374  245.733783\n",
              "6624  Female  54.616858   71.393749\n",
              "9285  Female  54.263133   64.700127"
            ]
          },
          "metadata": {
            "tags": []
          },
          "execution_count": 23
        }
      ]
    },
    {
      "cell_type": "markdown",
      "metadata": {
        "id": "jLRtMMFoecYn"
      },
      "source": [
        "Above the heights on higher end is 78 inch which is around 6 ft 6 inch. Now that is quite unusual height. There are people who have this height but it is very uncommon and it is ok if you remove those data points. Similarly on lower end it is 54 inch which is around 4 ft 6 inch. While this is also a legitimate height you don't find many people having this height so it is safe to consider both of these cases as outliers\n",
        "\n",
        "Now remove these outliers and generate new dataframe"
      ]
    },
    {
      "cell_type": "code",
      "metadata": {
        "id": "JoCtYvlkedaO",
        "outputId": "8767cc74-29ff-49bf-8288-ef834262331a",
        "colab": {
          "base_uri": "https://localhost:8080/",
          "height": 195
        }
      },
      "source": [
        "df_no_outlier_std_dev = df[(df.Height<upper_limit) & (df.Height>lower_limit)]\n",
        "df_no_outlier_std_dev.head()\n"
      ],
      "execution_count": 25,
      "outputs": [
        {
          "output_type": "execute_result",
          "data": {
            "text/html": [
              "<div>\n",
              "<style scoped>\n",
              "    .dataframe tbody tr th:only-of-type {\n",
              "        vertical-align: middle;\n",
              "    }\n",
              "\n",
              "    .dataframe tbody tr th {\n",
              "        vertical-align: top;\n",
              "    }\n",
              "\n",
              "    .dataframe thead th {\n",
              "        text-align: right;\n",
              "    }\n",
              "</style>\n",
              "<table border=\"1\" class=\"dataframe\">\n",
              "  <thead>\n",
              "    <tr style=\"text-align: right;\">\n",
              "      <th></th>\n",
              "      <th>Gender</th>\n",
              "      <th>Height</th>\n",
              "      <th>Weight</th>\n",
              "    </tr>\n",
              "  </thead>\n",
              "  <tbody>\n",
              "    <tr>\n",
              "      <th>0</th>\n",
              "      <td>Male</td>\n",
              "      <td>73.847017</td>\n",
              "      <td>241.893563</td>\n",
              "    </tr>\n",
              "    <tr>\n",
              "      <th>1</th>\n",
              "      <td>Male</td>\n",
              "      <td>68.781904</td>\n",
              "      <td>162.310473</td>\n",
              "    </tr>\n",
              "    <tr>\n",
              "      <th>2</th>\n",
              "      <td>Male</td>\n",
              "      <td>74.110105</td>\n",
              "      <td>212.740856</td>\n",
              "    </tr>\n",
              "    <tr>\n",
              "      <th>3</th>\n",
              "      <td>Male</td>\n",
              "      <td>71.730978</td>\n",
              "      <td>220.042470</td>\n",
              "    </tr>\n",
              "    <tr>\n",
              "      <th>4</th>\n",
              "      <td>Male</td>\n",
              "      <td>69.881796</td>\n",
              "      <td>206.349801</td>\n",
              "    </tr>\n",
              "  </tbody>\n",
              "</table>\n",
              "</div>"
            ],
            "text/plain": [
              "  Gender     Height      Weight\n",
              "0   Male  73.847017  241.893563\n",
              "1   Male  68.781904  162.310473\n",
              "2   Male  74.110105  212.740856\n",
              "3   Male  71.730978  220.042470\n",
              "4   Male  69.881796  206.349801"
            ]
          },
          "metadata": {
            "tags": []
          },
          "execution_count": 25
        }
      ]
    },
    {
      "cell_type": "code",
      "metadata": {
        "id": "YltJRNR3e0RJ",
        "outputId": "4562f666-453e-4cbd-a1a4-e01dfbdeae16",
        "colab": {
          "base_uri": "https://localhost:8080/",
          "height": 34
        }
      },
      "source": [
        "df_no_outlier_std_dev.shape"
      ],
      "execution_count": 26,
      "outputs": [
        {
          "output_type": "execute_result",
          "data": {
            "text/plain": [
              "(9993, 3)"
            ]
          },
          "metadata": {
            "tags": []
          },
          "execution_count": 26
        }
      ]
    },
    {
      "cell_type": "code",
      "metadata": {
        "id": "gDChreRbe33w",
        "outputId": "9e141dab-d0f9-4971-af9b-00490388d9cc",
        "colab": {
          "base_uri": "https://localhost:8080/",
          "height": 34
        }
      },
      "source": [
        "\n",
        "df.shape"
      ],
      "execution_count": 27,
      "outputs": [
        {
          "output_type": "execute_result",
          "data": {
            "text/plain": [
              "(10000, 3)"
            ]
          },
          "metadata": {
            "tags": []
          },
          "execution_count": 27
        }
      ]
    },
    {
      "cell_type": "markdown",
      "metadata": {
        "id": "I_0lYRWre9gA"
      },
      "source": [
        "2) Outlier detection and removal using Z Score\n",
        "Z score is a way to achieve same thing that we did above in part (1)\n",
        "\n",
        "Z score indicates how many standard deviation away a data point is.\n",
        "\n",
        "For example in our case mean is 66.37 and standard deviation is 3.84.\n",
        "\n",
        "If a value of a data point is 77.91 then Z score for that is 3 because it is 3 standard deviation away (77.91 = 66.37 + 3 * 3.84)\n",
        "\n",
        "Calculate the Z Score![zscore.png](data:image/png;base64,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)"
      ]
    },
    {
      "cell_type": "code",
      "metadata": {
        "id": "ULlkIsOPfEVQ",
        "outputId": "1bac87dd-e1d0-4699-d1b0-a9768ee75e1d",
        "colab": {
          "base_uri": "https://localhost:8080/",
          "height": 195
        }
      },
      "source": [
        "df['zscore'] = ( df.Height - df.Height.mean() ) / df.Height.std()\n",
        "df.head(5)"
      ],
      "execution_count": 29,
      "outputs": [
        {
          "output_type": "execute_result",
          "data": {
            "text/html": [
              "<div>\n",
              "<style scoped>\n",
              "    .dataframe tbody tr th:only-of-type {\n",
              "        vertical-align: middle;\n",
              "    }\n",
              "\n",
              "    .dataframe tbody tr th {\n",
              "        vertical-align: top;\n",
              "    }\n",
              "\n",
              "    .dataframe thead th {\n",
              "        text-align: right;\n",
              "    }\n",
              "</style>\n",
              "<table border=\"1\" class=\"dataframe\">\n",
              "  <thead>\n",
              "    <tr style=\"text-align: right;\">\n",
              "      <th></th>\n",
              "      <th>Gender</th>\n",
              "      <th>Height</th>\n",
              "      <th>Weight</th>\n",
              "      <th>zscore</th>\n",
              "    </tr>\n",
              "  </thead>\n",
              "  <tbody>\n",
              "    <tr>\n",
              "      <th>0</th>\n",
              "      <td>Male</td>\n",
              "      <td>73.847017</td>\n",
              "      <td>241.893563</td>\n",
              "      <td>1.943964</td>\n",
              "    </tr>\n",
              "    <tr>\n",
              "      <th>1</th>\n",
              "      <td>Male</td>\n",
              "      <td>68.781904</td>\n",
              "      <td>162.310473</td>\n",
              "      <td>0.627505</td>\n",
              "    </tr>\n",
              "    <tr>\n",
              "      <th>2</th>\n",
              "      <td>Male</td>\n",
              "      <td>74.110105</td>\n",
              "      <td>212.740856</td>\n",
              "      <td>2.012343</td>\n",
              "    </tr>\n",
              "    <tr>\n",
              "      <th>3</th>\n",
              "      <td>Male</td>\n",
              "      <td>71.730978</td>\n",
              "      <td>220.042470</td>\n",
              "      <td>1.393991</td>\n",
              "    </tr>\n",
              "    <tr>\n",
              "      <th>4</th>\n",
              "      <td>Male</td>\n",
              "      <td>69.881796</td>\n",
              "      <td>206.349801</td>\n",
              "      <td>0.913375</td>\n",
              "    </tr>\n",
              "  </tbody>\n",
              "</table>\n",
              "</div>"
            ],
            "text/plain": [
              "  Gender     Height      Weight    zscore\n",
              "0   Male  73.847017  241.893563  1.943964\n",
              "1   Male  68.781904  162.310473  0.627505\n",
              "2   Male  74.110105  212.740856  2.012343\n",
              "3   Male  71.730978  220.042470  1.393991\n",
              "4   Male  69.881796  206.349801  0.913375"
            ]
          },
          "metadata": {
            "tags": []
          },
          "execution_count": 29
        }
      ]
    },
    {
      "cell_type": "code",
      "metadata": {
        "id": "jzLsaKGufPBn",
        "outputId": "152a64ad-73b0-4204-c06c-72ff0cdae806",
        "colab": {
          "base_uri": "https://localhost:8080/",
          "height": 34
        }
      },
      "source": [
        "(73.84-66.37)/3.84"
      ],
      "execution_count": 30,
      "outputs": [
        {
          "output_type": "execute_result",
          "data": {
            "text/plain": [
              "1.9453124999999998"
            ]
          },
          "metadata": {
            "tags": []
          },
          "execution_count": 30
        }
      ]
    },
    {
      "cell_type": "code",
      "metadata": {
        "id": "sWgx7VM7fTNn",
        "outputId": "56c1dbd8-d373-434e-fb46-3f7237eaea27",
        "colab": {
          "base_uri": "https://localhost:8080/",
          "height": 195
        }
      },
      "source": [
        "df[df['zscore']>3]"
      ],
      "execution_count": 31,
      "outputs": [
        {
          "output_type": "execute_result",
          "data": {
            "text/html": [
              "<div>\n",
              "<style scoped>\n",
              "    .dataframe tbody tr th:only-of-type {\n",
              "        vertical-align: middle;\n",
              "    }\n",
              "\n",
              "    .dataframe tbody tr th {\n",
              "        vertical-align: top;\n",
              "    }\n",
              "\n",
              "    .dataframe thead th {\n",
              "        text-align: right;\n",
              "    }\n",
              "</style>\n",
              "<table border=\"1\" class=\"dataframe\">\n",
              "  <thead>\n",
              "    <tr style=\"text-align: right;\">\n",
              "      <th></th>\n",
              "      <th>Gender</th>\n",
              "      <th>Height</th>\n",
              "      <th>Weight</th>\n",
              "      <th>zscore</th>\n",
              "    </tr>\n",
              "  </thead>\n",
              "  <tbody>\n",
              "    <tr>\n",
              "      <th>994</th>\n",
              "      <td>Male</td>\n",
              "      <td>78.095867</td>\n",
              "      <td>255.690835</td>\n",
              "      <td>3.048271</td>\n",
              "    </tr>\n",
              "    <tr>\n",
              "      <th>1317</th>\n",
              "      <td>Male</td>\n",
              "      <td>78.462053</td>\n",
              "      <td>227.342565</td>\n",
              "      <td>3.143445</td>\n",
              "    </tr>\n",
              "    <tr>\n",
              "      <th>2014</th>\n",
              "      <td>Male</td>\n",
              "      <td>78.998742</td>\n",
              "      <td>269.989699</td>\n",
              "      <td>3.282934</td>\n",
              "    </tr>\n",
              "    <tr>\n",
              "      <th>3285</th>\n",
              "      <td>Male</td>\n",
              "      <td>78.528210</td>\n",
              "      <td>253.889004</td>\n",
              "      <td>3.160640</td>\n",
              "    </tr>\n",
              "    <tr>\n",
              "      <th>3757</th>\n",
              "      <td>Male</td>\n",
              "      <td>78.621374</td>\n",
              "      <td>245.733783</td>\n",
              "      <td>3.184854</td>\n",
              "    </tr>\n",
              "  </tbody>\n",
              "</table>\n",
              "</div>"
            ],
            "text/plain": [
              "     Gender     Height      Weight    zscore\n",
              "994    Male  78.095867  255.690835  3.048271\n",
              "1317   Male  78.462053  227.342565  3.143445\n",
              "2014   Male  78.998742  269.989699  3.282934\n",
              "3285   Male  78.528210  253.889004  3.160640\n",
              "3757   Male  78.621374  245.733783  3.184854"
            ]
          },
          "metadata": {
            "tags": []
          },
          "execution_count": 31
        }
      ]
    },
    {
      "cell_type": "code",
      "metadata": {
        "id": "4UQuLS5DfXvQ",
        "outputId": "1ec3fdbd-ab34-4ba9-8831-d32d637bb76c",
        "colab": {
          "base_uri": "https://localhost:8080/",
          "height": 254
        }
      },
      "source": [
        "df[(df.zscore<-3) | (df.zscore>3)]"
      ],
      "execution_count": 32,
      "outputs": [
        {
          "output_type": "execute_result",
          "data": {
            "text/html": [
              "<div>\n",
              "<style scoped>\n",
              "    .dataframe tbody tr th:only-of-type {\n",
              "        vertical-align: middle;\n",
              "    }\n",
              "\n",
              "    .dataframe tbody tr th {\n",
              "        vertical-align: top;\n",
              "    }\n",
              "\n",
              "    .dataframe thead th {\n",
              "        text-align: right;\n",
              "    }\n",
              "</style>\n",
              "<table border=\"1\" class=\"dataframe\">\n",
              "  <thead>\n",
              "    <tr style=\"text-align: right;\">\n",
              "      <th></th>\n",
              "      <th>Gender</th>\n",
              "      <th>Height</th>\n",
              "      <th>Weight</th>\n",
              "      <th>zscore</th>\n",
              "    </tr>\n",
              "  </thead>\n",
              "  <tbody>\n",
              "    <tr>\n",
              "      <th>994</th>\n",
              "      <td>Male</td>\n",
              "      <td>78.095867</td>\n",
              "      <td>255.690835</td>\n",
              "      <td>3.048271</td>\n",
              "    </tr>\n",
              "    <tr>\n",
              "      <th>1317</th>\n",
              "      <td>Male</td>\n",
              "      <td>78.462053</td>\n",
              "      <td>227.342565</td>\n",
              "      <td>3.143445</td>\n",
              "    </tr>\n",
              "    <tr>\n",
              "      <th>2014</th>\n",
              "      <td>Male</td>\n",
              "      <td>78.998742</td>\n",
              "      <td>269.989699</td>\n",
              "      <td>3.282934</td>\n",
              "    </tr>\n",
              "    <tr>\n",
              "      <th>3285</th>\n",
              "      <td>Male</td>\n",
              "      <td>78.528210</td>\n",
              "      <td>253.889004</td>\n",
              "      <td>3.160640</td>\n",
              "    </tr>\n",
              "    <tr>\n",
              "      <th>3757</th>\n",
              "      <td>Male</td>\n",
              "      <td>78.621374</td>\n",
              "      <td>245.733783</td>\n",
              "      <td>3.184854</td>\n",
              "    </tr>\n",
              "    <tr>\n",
              "      <th>6624</th>\n",
              "      <td>Female</td>\n",
              "      <td>54.616858</td>\n",
              "      <td>71.393749</td>\n",
              "      <td>-3.054091</td>\n",
              "    </tr>\n",
              "    <tr>\n",
              "      <th>9285</th>\n",
              "      <td>Female</td>\n",
              "      <td>54.263133</td>\n",
              "      <td>64.700127</td>\n",
              "      <td>-3.146027</td>\n",
              "    </tr>\n",
              "  </tbody>\n",
              "</table>\n",
              "</div>"
            ],
            "text/plain": [
              "      Gender     Height      Weight    zscore\n",
              "994     Male  78.095867  255.690835  3.048271\n",
              "1317    Male  78.462053  227.342565  3.143445\n",
              "2014    Male  78.998742  269.989699  3.282934\n",
              "3285    Male  78.528210  253.889004  3.160640\n",
              "3757    Male  78.621374  245.733783  3.184854\n",
              "6624  Female  54.616858   71.393749 -3.054091\n",
              "9285  Female  54.263133   64.700127 -3.146027"
            ]
          },
          "metadata": {
            "tags": []
          },
          "execution_count": 32
        }
      ]
    },
    {
      "cell_type": "markdown",
      "metadata": {
        "id": "SLVFE42Pfbzh"
      },
      "source": [
        "Remove the outliers and produce new dataframe"
      ]
    },
    {
      "cell_type": "code",
      "metadata": {
        "id": "GMivpeaifccg",
        "outputId": "53bbe894-1864-45cb-ca60-d9b857230167",
        "colab": {
          "base_uri": "https://localhost:8080/",
          "height": 195
        }
      },
      "source": [
        "df_no_outliers = df[(df.zscore>-3) & (df.zscore<3)]\n",
        "df_no_outliers.head()"
      ],
      "execution_count": 33,
      "outputs": [
        {
          "output_type": "execute_result",
          "data": {
            "text/html": [
              "<div>\n",
              "<style scoped>\n",
              "    .dataframe tbody tr th:only-of-type {\n",
              "        vertical-align: middle;\n",
              "    }\n",
              "\n",
              "    .dataframe tbody tr th {\n",
              "        vertical-align: top;\n",
              "    }\n",
              "\n",
              "    .dataframe thead th {\n",
              "        text-align: right;\n",
              "    }\n",
              "</style>\n",
              "<table border=\"1\" class=\"dataframe\">\n",
              "  <thead>\n",
              "    <tr style=\"text-align: right;\">\n",
              "      <th></th>\n",
              "      <th>Gender</th>\n",
              "      <th>Height</th>\n",
              "      <th>Weight</th>\n",
              "      <th>zscore</th>\n",
              "    </tr>\n",
              "  </thead>\n",
              "  <tbody>\n",
              "    <tr>\n",
              "      <th>0</th>\n",
              "      <td>Male</td>\n",
              "      <td>73.847017</td>\n",
              "      <td>241.893563</td>\n",
              "      <td>1.943964</td>\n",
              "    </tr>\n",
              "    <tr>\n",
              "      <th>1</th>\n",
              "      <td>Male</td>\n",
              "      <td>68.781904</td>\n",
              "      <td>162.310473</td>\n",
              "      <td>0.627505</td>\n",
              "    </tr>\n",
              "    <tr>\n",
              "      <th>2</th>\n",
              "      <td>Male</td>\n",
              "      <td>74.110105</td>\n",
              "      <td>212.740856</td>\n",
              "      <td>2.012343</td>\n",
              "    </tr>\n",
              "    <tr>\n",
              "      <th>3</th>\n",
              "      <td>Male</td>\n",
              "      <td>71.730978</td>\n",
              "      <td>220.042470</td>\n",
              "      <td>1.393991</td>\n",
              "    </tr>\n",
              "    <tr>\n",
              "      <th>4</th>\n",
              "      <td>Male</td>\n",
              "      <td>69.881796</td>\n",
              "      <td>206.349801</td>\n",
              "      <td>0.913375</td>\n",
              "    </tr>\n",
              "  </tbody>\n",
              "</table>\n",
              "</div>"
            ],
            "text/plain": [
              "  Gender     Height      Weight    zscore\n",
              "0   Male  73.847017  241.893563  1.943964\n",
              "1   Male  68.781904  162.310473  0.627505\n",
              "2   Male  74.110105  212.740856  2.012343\n",
              "3   Male  71.730978  220.042470  1.393991\n",
              "4   Male  69.881796  206.349801  0.913375"
            ]
          },
          "metadata": {
            "tags": []
          },
          "execution_count": 33
        }
      ]
    },
    {
      "cell_type": "code",
      "metadata": {
        "id": "36t-UbUWfgzg",
        "outputId": "fd92dad4-02e7-4b1a-ac90-f0e9ab7da972",
        "colab": {
          "base_uri": "https://localhost:8080/",
          "height": 34
        }
      },
      "source": [
        "df_no_outliers.shape"
      ],
      "execution_count": 34,
      "outputs": [
        {
          "output_type": "execute_result",
          "data": {
            "text/plain": [
              "(9993, 4)"
            ]
          },
          "metadata": {
            "tags": []
          },
          "execution_count": 34
        }
      ]
    },
    {
      "cell_type": "code",
      "metadata": {
        "id": "1xv6redyfm0o",
        "outputId": "af836858-c71d-4cdb-a667-87e6280d6910",
        "colab": {
          "base_uri": "https://localhost:8080/",
          "height": 34
        }
      },
      "source": [
        "df.shape"
      ],
      "execution_count": 35,
      "outputs": [
        {
          "output_type": "execute_result",
          "data": {
            "text/plain": [
              "(10000, 4)"
            ]
          },
          "metadata": {
            "tags": []
          },
          "execution_count": 35
        }
      ]
    }
  ]
}