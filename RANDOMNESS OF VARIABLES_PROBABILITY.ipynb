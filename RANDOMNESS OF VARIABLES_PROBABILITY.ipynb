{
  "nbformat": 4,
  "nbformat_minor": 0,
  "metadata": {
    "colab": {
      "name": "Untitled30.ipynb",
      "provenance": [],
      "authorship_tag": "ABX9TyMsb922bAv+SpQmp3rG/1qr",
      "include_colab_link": true
    },
    "kernelspec": {
      "name": "python3",
      "display_name": "Python 3"
    }
  },
  "cells": [
    {
      "cell_type": "markdown",
      "metadata": {
        "id": "view-in-github",
        "colab_type": "text"
      },
      "source": [
        "<a href=\"https://colab.research.google.com/github/surajgazi100/DATA_SCIENCE_STATISTICS/blob/main/RANDOMNESS%20OF%20VARIABLES_PROBABILITY.ipynb\" target=\"_parent\"><img src=\"https://colab.research.google.com/assets/colab-badge.svg\" alt=\"Open In Colab\"/></a>"
      ]
    },
    {
      "cell_type": "markdown",
      "metadata": {
        "id": "XS5Q_NlUJG7t"
      },
      "source": [
        "After completing this tutorial, you will know:\n",
        "\n",
        "That randomness can be applied in programs via the use of pseudorandom number generators.\n",
        "\n",
        "How to generate random numbers and use randomness via the Python standard library.\n",
        "\n",
        "How to generate arrays of random numbers via the NumPy library.\n"
      ]
    },
    {
      "cell_type": "markdown",
      "metadata": {
        "id": "bhD6nuLZJTOJ"
      },
      "source": [
        "This tutorial is divided into 3 parts; they are:\n",
        "\n",
        "1.Pseudorandom Number Generators\n",
        "\n",
        "2.Random Numbers with the Python Standard Library\n",
        "\n",
        "   a.Seed The Random Number Generator\n",
        "\n",
        "   b.Random Floating Point Values\n",
        "\n",
        "   c.Random Integer Values\n",
        "\n",
        "   d.Random Gaussian Values\n",
        "\n",
        "   e.Randomly Choosing From a List\n",
        "\n",
        "   f.Random Subsample From a List\n",
        "\n",
        "   g.Randomly Shuffle a List\n",
        "\n",
        "3.Random Numbers with NumPy\n",
        "\n",
        "a.Seed The Random Number Generator\n",
        "\n",
        "b.Array of Random Floating Point Values\n",
        "\n",
        "c.Array of Random Integer Values\n",
        "\n",
        "d.Array of Random Gaussian Values\n",
        "\n",
        "e.Shuffle NumPy Array"
      ]
    },
    {
      "cell_type": "markdown",
      "metadata": {
        "id": "7DXVaO1BJa8k"
      },
      "source": [
        "# 1. Pseudorandom Number Generators\n",
        "The source of randomness that we inject into our programs and algorithms is a mathematical trick called a pseudorandom number generator.\n",
        "\n",
        "A random number generator is a system that generates random numbers from a true source of randomness. Often something physical, such as a Geiger counter, where the results are turned into random numbers. We do not need true randomness in machine learning. Instead we can use pseudorandomness. Pseudorandomness is a sample of numbers that look close to random, but were generated using a deterministic process.\n",
        "\n",
        "Shuffling data and initializing coefficients with random values use pseudorandom number generators. These little programs are often a function that you can call that will return a random number. Called again, they will return a new random number. Wrapper functions are often also available and allow you to get your randomness as an integer, floating point, within a specific distribution, within a specific range, and so on.\n",
        "\n",
        "The numbers are generated in a sequence. The sequence is deterministic and is seeded with an initial number. If you do not explicitly seed the pseudorandom number generator, then it may use the current system time in seconds or milliseconds as the seed.\n",
        "\n",
        "The value of the seed does not matter. Choose anything you wish. What does matter is that the same seeding of the process will result in the same sequence of random numbers.\n",
        "\n",
        "Let’s make this concrete with some examples."
      ]
    },
    {
      "cell_type": "markdown",
      "metadata": {
        "id": "WhFj4GxzKYBQ"
      },
      "source": [
        "# 2. Random Numbers with the Python Standard Library"
      ]
    },
    {
      "cell_type": "markdown",
      "metadata": {
        "id": "OqQEInsXKeoV"
      },
      "source": [
        "The Python standard library provides a module called random that offers a suite of functions for generating random numbers.\n",
        "\n",
        "Python uses a popular and robust pseudorandom number generator called the Mersenne Twister.\n",
        "\n",
        "In this section, we will look at a number of use cases for generating and using random numbers and randomness with the standard Python API."
      ]
    },
    {
      "cell_type": "markdown",
      "metadata": {
        "id": "VHMzvwfFKikm"
      },
      "source": [
        "\n",
        "#Seed The Random Number Generator"
      ]
    },
    {
      "cell_type": "markdown",
      "metadata": {
        "id": "5-vqslrlKp7V"
      },
      "source": [
        "The pseudorandom number generator is a mathematical function that generates a sequence of nearly random numbers.\n",
        "\n",
        "It takes a parameter to start off the sequence, called the seed. The function is deterministic, meaning given the same seed, it will produce the same sequence of numbers every time. The choice of seed does not matter.\n",
        "\n",
        "The seed() function will seed the pseudorandom number generator, taking an integer value as an argument, such as 1 or 7. If the seed() function is not called prior to using randomness, the default is to use the current system time in milliseconds from epoch (1970).\n",
        "\n",
        "The example below demonstrates seeding the pseudorandom number generator, generates some random numbers, and shows that reseeding the generator will result in the same sequence of numbers being generated."
      ]
    },
    {
      "cell_type": "code",
      "metadata": {
        "id": "m7SLDBeuJFvh",
        "outputId": "088ddaeb-099b-4fa4-b272-3c5e536951ee",
        "colab": {
          "base_uri": "https://localhost:8080/",
          "height": 34
        }
      },
      "source": [
        "#seed the pseudorandom number generators \n",
        "from random import seed\n",
        "from random import random\n",
        "#seed random number generator seed(1)\n",
        "#generate some random numbers \n",
        "print(random(),random(),random())"
      ],
      "execution_count": 1,
      "outputs": [
        {
          "output_type": "stream",
          "text": [
            "0.02916740586400013 0.5428885580960265 0.19438534276715946\n"
          ],
          "name": "stdout"
        }
      ]
    },
    {
      "cell_type": "markdown",
      "metadata": {
        "id": "BF2ca6DwLjJX"
      },
      "source": [
        "Running the example seeds the pseudorandom number generator with the value 1, generates 3 random numbers, reseeds the generator, and shows that the same three random numbers are generated.\n",
        "\n",
        "It can be useful to control the randomness by setting the seed to ensure that your code produces the same result each time, such as in a production model.\n",
        "\n",
        "For running experiments where randomization is used to control for confounding variables, a different seed may be used for each experimental run.\n",
        "\n"
      ]
    },
    {
      "cell_type": "markdown",
      "metadata": {
        "id": "uYt3OSdiLoOI"
      },
      "source": [
        "# Random Floating Point Values"
      ]
    },
    {
      "cell_type": "markdown",
      "metadata": {
        "id": "XYYfem8FLs0o"
      },
      "source": [
        "Random floating point values can be generated using the random() function. Values will be generated in the range between 0 and 1, specifically in the interval [0,1).\n",
        "\n",
        "Values are drawn from a uniform distribution, meaning each value has an equal chance of being drawn.\n",
        "\n",
        "The example below generates 10 random floating point values."
      ]
    },
    {
      "cell_type": "code",
      "metadata": {
        "id": "j1N-bF36L4r4",
        "outputId": "e397a28b-9c56-4ef9-ffb1-9559b3fe77cb",
        "colab": {
          "base_uri": "https://localhost:8080/",
          "height": 185
        }
      },
      "source": [
        "#generate random numbers between 0-1\n",
        "for _ in range(10):\n",
        "  value = random()\n",
        "  print(value)"
      ],
      "execution_count": 2,
      "outputs": [
        {
          "output_type": "stream",
          "text": [
            "0.7340526233505148\n",
            "0.2750937865983908\n",
            "0.7756822554719078\n",
            "0.7943320821211886\n",
            "0.5684401347920791\n",
            "0.38967915533516073\n",
            "0.5723713150054165\n",
            "0.26584729756959835\n",
            "0.4169739268771133\n",
            "0.1993272160856614\n"
          ],
          "name": "stdout"
        }
      ]
    },
    {
      "cell_type": "code",
      "metadata": {
        "id": "iS6NDqTxMOhY"
      },
      "source": [
        "scaled value = min + (value * (max - min))"
      ],
      "execution_count": null,
      "outputs": []
    },
    {
      "cell_type": "markdown",
      "metadata": {
        "id": "3yCEjpBBMwA6"
      },
      "source": [
        "Where min and max are the minimum and maximum values of the desired range respectively, and value is the randomly generated floating point value in the range between 0 and 1."
      ]
    },
    {
      "cell_type": "markdown",
      "metadata": {
        "id": "2ZK1GdrEMwtK"
      },
      "source": [
        "# Random Integer Values\n",
        "Random integer values can be generated with the randint() function.\n",
        "\n",
        "This function takes two arguments: the start and the end of the range for the generated integer values. Random integers are generated within and including the start and end of range values, specifically in the interval [start, end]. Random values are drawn from a uniform distribution.\n",
        "\n",
        "The example below generates 10 random integer values between 0 and 10."
      ]
    },
    {
      "cell_type": "code",
      "metadata": {
        "id": "9W9091OVM1ZZ",
        "outputId": "2009912a-fd83-4534-ce2a-e903719709c0",
        "colab": {
          "base_uri": "https://localhost:8080/",
          "height": 185
        }
      },
      "source": [
        "from random import randint\n",
        "for _ in range(10):\n",
        "  value = randint(0,10)\n",
        "  print(value)"
      ],
      "execution_count": 9,
      "outputs": [
        {
          "output_type": "stream",
          "text": [
            "0\n",
            "7\n",
            "0\n",
            "8\n",
            "10\n",
            "8\n",
            "0\n",
            "2\n",
            "7\n",
            "10\n"
          ],
          "name": "stdout"
        }
      ]
    },
    {
      "cell_type": "markdown",
      "metadata": {
        "id": "et6WCWyuNV-2"
      },
      "source": [
        "# Random Gaussian Values\n",
        "Random floating point values can be drawn from a Gaussian distribution using the gauss() function.\n",
        "\n",
        "This function takes two arguments that correspond to the parameters that control the size of the distribution, specifically the mean and the standard deviation.\n",
        "\n",
        "The example below generates 10 random values drawn from a Gaussian distribution with a mean of 0.0 and a standard deviation of 1.0.\n",
        "\n",
        "Note that these parameters are not the bounds on the values and that the spread of the values will be controlled by the bell shape of the distribution, in this case proportionately likely above and below 0.0."
      ]
    },
    {
      "cell_type": "code",
      "metadata": {
        "id": "YkHGXf-VNYLe",
        "outputId": "e6a1da20-8a42-4401-d144-8edb63cf0a87",
        "colab": {
          "base_uri": "https://localhost:8080/",
          "height": 185
        }
      },
      "source": [
        "from random import gauss\n",
        "for _ in range(10):\n",
        "  value = gauss(0,1)\n",
        "  print(value)"
      ],
      "execution_count": 11,
      "outputs": [
        {
          "output_type": "stream",
          "text": [
            "0.33576148604778216\n",
            "-0.1397886470844872\n",
            "-0.024026952098941116\n",
            "0.5387257783169532\n",
            "-1.7585444893181805\n",
            "0.3795271401520925\n",
            "0.39710227389809416\n",
            "0.3849259880816653\n",
            "-0.019371347285968867\n",
            "-1.8107534965094516\n"
          ],
          "name": "stdout"
        }
      ]
    },
    {
      "cell_type": "markdown",
      "metadata": {
        "id": "Ak6BzBxjNvG7"
      },
      "source": [
        "# Randomly Choosing From a List\n",
        "Random numbers can be used to randomly choose an item from a list.\n",
        "\n",
        "For example, if a list had 10 items with indexes between 0 and 9, then you could generate a random integer between 0 and 9 and use it to randomly select an item from the list. The choice() function implements this behavior for you. Selections are made with a uniform likelihood.\n",
        "\n",
        "The example below generates a list of 20 integers and gives five examples of choosing one random item from the list."
      ]
    },
    {
      "cell_type": "code",
      "metadata": {
        "id": "2Q9tmGVjNxOb",
        "outputId": "0cb30ba9-29bd-48e4-f32b-c7bf21f7fa50",
        "colab": {
          "base_uri": "https://localhost:8080/",
          "height": 118
        }
      },
      "source": [
        "from random import choices\n",
        "sequence = [i for i in range(20)]\n",
        "print(sequence)\n",
        "for _ in range(5):\n",
        "  selection = choices(sequence)\n",
        "  print(selection)"
      ],
      "execution_count": 13,
      "outputs": [
        {
          "output_type": "stream",
          "text": [
            "[0, 1, 2, 3, 4, 5, 6, 7, 8, 9, 10, 11, 12, 13, 14, 15, 16, 17, 18, 19]\n",
            "[6]\n",
            "[8]\n",
            "[12]\n",
            "[13]\n",
            "[6]\n"
          ],
          "name": "stdout"
        }
      ]
    },
    {
      "cell_type": "markdown",
      "metadata": {
        "id": "DRHjqN4nObj1"
      },
      "source": [
        "# Random Subsample From a List\n",
        "We may be interested in repeating the random selection of items from a list to create a randomly chosen subset.\n",
        "\n",
        "Importantly, once an item is selected from the list and added to the subset, it should not be added again. This is called selection without replacement because once an item from the list is selected for the subset, it is not added back to the original list (i.e. is not made available for re-selection).\n",
        "\n",
        "This behavior is provided in the sample() function that selects a random sample from a list without replacement. The function takes both the list and the size of the subset to select as arguments. Note that items are not actually removed from the original list, only selected into a copy of the list.\n",
        "\n",
        "The example below demonstrates selecting a subset of five items from a list of 20 integers."
      ]
    },
    {
      "cell_type": "code",
      "metadata": {
        "id": "se9gdv27OgCe",
        "outputId": "82df4e45-53b0-48c3-c890-b7e7706960c9",
        "colab": {
          "base_uri": "https://localhost:8080/",
          "height": 50
        }
      },
      "source": [
        "\n",
        "# select a random sample without replacement\n",
        "from random import seed\n",
        "from random import sample\n",
        "# seed random number generator\n",
        "seed(1)\n",
        "# prepare a sequence\n",
        "sequence = [i for i in range(20)]\n",
        "print(sequence)\n",
        "# select a subset without replacement\n",
        "subset = sample(sequence, 5)\n",
        "print(subset)"
      ],
      "execution_count": 14,
      "outputs": [
        {
          "output_type": "stream",
          "text": [
            "[0, 1, 2, 3, 4, 5, 6, 7, 8, 9, 10, 11, 12, 13, 14, 15, 16, 17, 18, 19]\n",
            "[4, 18, 2, 8, 3]\n"
          ],
          "name": "stdout"
        }
      ]
    },
    {
      "cell_type": "markdown",
      "metadata": {
        "id": "IJuog8gsOqZO"
      },
      "source": [
        "Randomly Shuffle a List\n",
        "\n",
        "Randomness can be used to shuffle a list of items, like shuffling a deck of cards.\n",
        "\n",
        "The shuffle() function can be used to shuffle a list. The shuffle is performed in place, meaning that the list provided as an argument to the shuffle() function is shuffled rather than a shuffled copy of the list being made and returned.\n",
        "\n",
        "The example below demonstrates randomly shuffling a list of integer values."
      ]
    },
    {
      "cell_type": "code",
      "metadata": {
        "id": "34OYAXgbOo4N",
        "outputId": "d489beeb-c983-4db8-d6a4-ffd3816880dd",
        "colab": {
          "base_uri": "https://localhost:8080/",
          "height": 50
        }
      },
      "source": [
        "from random import shuffle\n",
        "sequence = [i for i in range(20)]\n",
        "print(sequence)\n",
        "shuffle(sequence)\n",
        "print(sequence)"
      ],
      "execution_count": 15,
      "outputs": [
        {
          "output_type": "stream",
          "text": [
            "[0, 1, 2, 3, 4, 5, 6, 7, 8, 9, 10, 11, 12, 13, 14, 15, 16, 17, 18, 19]\n",
            "[10, 3, 4, 8, 18, 5, 2, 13, 16, 9, 11, 17, 0, 7, 1, 6, 12, 19, 14, 15]\n"
          ],
          "name": "stdout"
        }
      ]
    },
    {
      "cell_type": "markdown",
      "metadata": {
        "id": "YRtaVITiPLq_"
      },
      "source": [
        "# 3. Random Numbers with NumPy\n",
        "In machine learning, you are likely using libraries such as scikit-learn and Keras.\n",
        "\n",
        "These libraries make use of NumPy under the covers, a library that makes working with vectors and matrices of numbers very efficient.\n",
        "\n",
        "NumPy also has its own implementation of a pseudorandom number generator and convenience wrapper functions.\n",
        "\n",
        "NumPy also implements the Mersenne Twister pseudorandom number generator.\n",
        "\n",
        "Let’s look at a few examples of generating random numbers and using randomness with NumPy arrays."
      ]
    },
    {
      "cell_type": "markdown",
      "metadata": {
        "id": "3aUMxOibPUOd"
      },
      "source": [
        "# Seed The Random Number Generator\n",
        "The NumPy pseudorandom number generator is different from the Python standard library pseudorandom number generator.\n",
        "\n",
        "Importantly, seeding the Python pseudorandom number generator does not impact the NumPy pseudorandom number generator. It must be seeded and used separately.\n",
        "\n",
        "The seed() function can be used to seed the NumPy pseudorandom number generator, taking an integer as the seed value.\n",
        "\n",
        "The example below demonstrates how to seed the generator and how reseeding the generator will result in the same sequence of random numbers being generated."
      ]
    },
    {
      "cell_type": "code",
      "metadata": {
        "id": "YcrynMO0PQ1G",
        "outputId": "f82269b5-8de1-4fdf-e741-a004b9ccb89d",
        "colab": {
          "base_uri": "https://localhost:8080/",
          "height": 50
        }
      },
      "source": [
        "from numpy.random import seed\n",
        "from numpy.random import rand\n",
        "# seed random number generator\n",
        "seed(1)\n",
        "# generate some random numbers\n",
        "print(rand(3))\n",
        "# reset the seed\n",
        "seed(1)\n",
        "# generate some random numbers\n",
        "print(rand(3))"
      ],
      "execution_count": 16,
      "outputs": [
        {
          "output_type": "stream",
          "text": [
            "[4.17022005e-01 7.20324493e-01 1.14374817e-04]\n",
            "[4.17022005e-01 7.20324493e-01 1.14374817e-04]\n"
          ],
          "name": "stdout"
        }
      ]
    },
    {
      "cell_type": "markdown",
      "metadata": {
        "id": "kd22CusFPk6X"
      },
      "source": [
        "# Array of Random Floating Point Values\n",
        "An array of random floating point values can be generated with the rand() NumPy function.\n",
        "\n",
        "If no argument is provided, then a single random value is created, otherwise the size of the array can be specified.\n",
        "\n",
        "The example below creates an array of 10 random floating point values drawn from a uniform distribution."
      ]
    },
    {
      "cell_type": "code",
      "metadata": {
        "id": "qXe6aw0NPnCm",
        "outputId": "e0d3847d-4593-4925-d1d5-f70cc730757c",
        "colab": {
          "base_uri": "https://localhost:8080/",
          "height": 67
        }
      },
      "source": [
        "# generate random floating point values\n",
        "from numpy.random import seed\n",
        "from numpy.random import rand\n",
        "# seed random number generator\n",
        "seed(1)\n",
        "# generate random numbers between 0-1\n",
        "values = rand(10)\n",
        "print(values)"
      ],
      "execution_count": 17,
      "outputs": [
        {
          "output_type": "stream",
          "text": [
            "[4.17022005e-01 7.20324493e-01 1.14374817e-04 3.02332573e-01\n",
            " 1.46755891e-01 9.23385948e-02 1.86260211e-01 3.45560727e-01\n",
            " 3.96767474e-01 5.38816734e-01]\n"
          ],
          "name": "stdout"
        }
      ]
    },
    {
      "cell_type": "markdown",
      "metadata": {
        "id": "CRRR9R5oPwiH"
      },
      "source": [
        "# Array of Random Integer Values\n",
        "An array of random integers can be generated using the randint() NumPy function.\n",
        "\n",
        "This function takes three arguments, the lower end of the range, the upper end of the range, and the number of integer values to generate or the size of the array. Random integers will be drawn from a uniform distribution including the lower value and excluding the upper value, e.g. in the interval [lower, upper).\n",
        "\n",
        "The example below demonstrates generating an array of random integers."
      ]
    },
    {
      "cell_type": "code",
      "metadata": {
        "id": "REqD6zx3PzbH",
        "outputId": "3669e5b5-190a-4bad-d3a3-45f0f553eca5",
        "colab": {
          "base_uri": "https://localhost:8080/",
          "height": 34
        }
      },
      "source": [
        "\n",
        "# generate random integer values\n",
        "from numpy.random import seed\n",
        "from numpy.random import randint\n",
        "# seed random number generator\n",
        "seed(1)\n",
        "# generate some integers\n",
        "values = randint(0, 10, 20)\n",
        "print(values)"
      ],
      "execution_count": 18,
      "outputs": [
        {
          "output_type": "stream",
          "text": [
            "[5 8 9 5 0 0 1 7 6 9 2 4 5 2 4 2 4 7 7 9]\n"
          ],
          "name": "stdout"
        }
      ]
    },
    {
      "cell_type": "markdown",
      "metadata": {
        "id": "j-MRn6LNP9Hv"
      },
      "source": [
        "# Array of Random Gaussian Values\n",
        "An array of random Gaussian values can be generated using the randn() NumPy function.\n",
        "\n",
        "This function takes a single argument to specify the size of the resulting array. The Gaussian values are drawn from a standard Gaussian distribution; this is a distribution that has a mean of 0.0 and a standard deviation of 1.0.\n",
        "\n",
        "The example below shows how to generate an array of random Gaussian values."
      ]
    },
    {
      "cell_type": "code",
      "metadata": {
        "id": "Z2Opq8u6P_eR",
        "outputId": "958ea9c8-a56a-42b2-8b4f-bb19da1377da",
        "colab": {
          "base_uri": "https://localhost:8080/",
          "height": 50
        }
      },
      "source": [
        "\n",
        "# generate random Gaussian values\n",
        "from numpy.random import seed\n",
        "from numpy.random import randn\n",
        "# seed random number generator\n",
        "seed(1)\n",
        "# generate some Gaussian values\n",
        "values = randn(10)\n",
        "print(values)"
      ],
      "execution_count": 19,
      "outputs": [
        {
          "output_type": "stream",
          "text": [
            "[ 1.62434536 -0.61175641 -0.52817175 -1.07296862  0.86540763 -2.3015387\n",
            "  1.74481176 -0.7612069   0.3190391  -0.24937038]\n"
          ],
          "name": "stdout"
        }
      ]
    },
    {
      "cell_type": "markdown",
      "metadata": {
        "id": "NvVv0fl5QSw-"
      },
      "source": [
        "# Shuffle NumPy Array\n",
        "A NumPy array can be randomly shuffled in-place using the shuffle() NumPy function.\n",
        "\n",
        "The example below demonstrates how to shuffle a NumPy array."
      ]
    },
    {
      "cell_type": "code",
      "metadata": {
        "id": "SX5ZwzIwQVzh",
        "outputId": "7414138d-91e9-41b4-88f7-60f31a8ee770",
        "colab": {
          "base_uri": "https://localhost:8080/",
          "height": 50
        }
      },
      "source": [
        "\n",
        "# randomly shuffle a sequence\n",
        "from numpy.random import seed\n",
        "from numpy.random import shuffle\n",
        "# seed random number generator\n",
        "seed(1)\n",
        "# prepare a sequence\n",
        "sequence = [i for i in range(20)]\n",
        "print(sequence)\n",
        "# randomly shuffle the sequence\n",
        "shuffle(sequence)\n",
        "print(sequence)"
      ],
      "execution_count": 23,
      "outputs": [
        {
          "output_type": "stream",
          "text": [
            "[0, 1, 2, 3, 4, 5, 6, 7, 8, 9, 10, 11, 12, 13, 14, 15, 16, 17, 18, 19]\n",
            "[3, 16, 6, 10, 2, 14, 4, 17, 7, 1, 13, 0, 19, 18, 9, 15, 8, 12, 11, 5]\n"
          ],
          "name": "stdout"
        }
      ]
    }
  ]
}