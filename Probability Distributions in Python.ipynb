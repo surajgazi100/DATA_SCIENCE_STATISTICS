{
  "nbformat": 4,
  "nbformat_minor": 0,
  "metadata": {
    "colab": {
      "name": "Untitled32.ipynb",
      "provenance": [],
      "authorship_tag": "ABX9TyMDxvAQfUFAwFzKYMBtU4s6",
      "include_colab_link": true
    },
    "kernelspec": {
      "name": "python3",
      "display_name": "Python 3"
    }
  },
  "cells": [
    {
      "cell_type": "markdown",
      "metadata": {
        "id": "view-in-github",
        "colab_type": "text"
      },
      "source": [
        "<a href=\"https://colab.research.google.com/github/surajgazi100/DATA_SCIENCE_STATISTICS/blob/main/Probability%20Distributions%20in%20Python.ipynb\" target=\"_parent\"><img src=\"https://colab.research.google.com/assets/colab-badge.svg\" alt=\"Open In Colab\"/></a>"
      ]
    },
    {
      "cell_type": "markdown",
      "metadata": {
        "id": "HPB-X4ZjWVMK"
      },
      "source": [
        "# Probability Distributions in Python"
      ]
    },
    {
      "cell_type": "markdown",
      "metadata": {
        "id": "I5GEy9r3Wdgi"
      },
      "source": [
        "In this tutorial, you'll learn about commonly used probability distributions in machine learning literature"
      ]
    },
    {
      "cell_type": "markdown",
      "metadata": {
        "id": "knjdOmXoWmPp"
      },
      "source": [
        "# Introduction\n",
        "Probability and Statistics are the foundational pillars of Data Science. In fact, the underlying principle of machine learning and artificial intelligence is nothing but statistical mathematics and linear algebra. Often you will encounter situations, especially in Data Science, where you have to read some research paper which involves a lot of maths in order to understand a particular topic and so if you want to get better at Data Science, it's imperative to have a strong mathematical understanding. This tutorial is about commonly used probability distributions in machine learning literature. If you are a beginner, then this is the right place for you to get started. In this tutorial, you'll:\n",
        "\n",
        "Learn about probability jargons like random variables, density curve, probability functions, etc.\n",
        "Learn about different probability distributions and their distribution functions along with some of their properties.\n",
        "Learn to create and plot these distributions in python.\n",
        "Before getting started, you should be familiar with some mathematical terminologies which is what the next section covers."
      ]
    },
    {
      "cell_type": "markdown",
      "metadata": {
        "id": "VU4vbOhtWpWw"
      },
      "source": [
        "# Random Variable\n",
        "A random variable is a variable whose possible values are numerical outcomes of a random phenomenon. There are two types of random variables, discrete and continuous.\n",
        "\n",
        "A discrete random variable is one which may take on only a countable number of distinct values and thus can be quantified. For example, you can define a random variable X to be the number which comes up when you roll a fair dice. X can take values : [1,2,3,4,5,6] and therefore is a discrete random variable.\n",
        "\n",
        "The probability distribution of a discrete random variable is a list of probabilities associated with each of its possible values. It is also sometimes called the probability function or the probability mass function. To have a mathematical sense, suppose a random variable X may take k different values, with the probability that X=xi defined to be P(X=xi)=pi. Then the probabilities pi must satisfy the following:\n",
        "\n",
        "1: 0 < pi < 1 for each i\n",
        "2: p1+p2+...+pk=1.\n",
        "\n",
        "Some examples of discrete probability distributions are Bernoulli distribution, Binomial distribution, Poisson distribution etc.\n",
        "\n",
        "A continuous random variable is one which takes an infinite number of possible values. For example, you can define a random variable X to be the height of students in a class. Since the continuous random variable is defined over an interval of values, it is represented by the area under a curve (or the integral).\n",
        "\n",
        "The probability distribution of a continuous random variable, known as probability distribution functions, are the functions that take on continuous values. The probability of observing any single value is equal to 0 since the number of values which may be assumed by the random variable is infinite. For example, a random variable X may take all values over an interval of real numbers. Then the probability that X is in the set of outcomes A,P(A), is defined to be the area above A and under a curve. The curve, which represents a function p(x), must satisfy the following:\n",
        "\n",
        "1: The curve has no negative values (p(x)>0 for all x)\n",
        "\n",
        "2: The total area under the curve is equal to 1.\n",
        "\n",
        "A curve meeting these requirements is often known as a density curve. Some examples of continuous probability distributions are normal distribution, exponential distribution, beta distribution, etc.\n",
        "\n",
        "There’s another type of distribution that often pops up in literature which you should know about called cumulative distribution function. All random variables (discrete and continuous) have a cumulative distribution function. It is a function giving the probability that the random variable X is less than or equal to x, for every value x. For a discrete random variable, the cumulative distribution function is found by summing up the probabilities.\n",
        "\n",
        "In the next section, you will explore some important distributions and try to work them out in python but before that import all the necessary libraries that you'll use."
      ]
    },
    {
      "cell_type": "code",
      "metadata": {
        "id": "PdTBI87RWw3g"
      },
      "source": [
        "#for inline plots in jupyter\n",
        "%matplotlib inline\n",
        "import IPython\n",
        "import matplotlib\n",
        "import matplotlib.pyplot as plt\n",
        "#for latex equations\n",
        "from IPython.display import Math ,Latex\n",
        "#for displaying images\n",
        "from IPython.core.display import Image"
      ],
      "execution_count": 5,
      "outputs": []
    },
    {
      "cell_type": "code",
      "metadata": {
        "id": "K6yX3ce3XnJj"
      },
      "source": [
        "import seaborn\n",
        "import seaborn as sns \n",
        "#settings for seaborn plotting style\n",
        "sns.set(color_codes=True)\n",
        "#setting for seaborn plot sizes \n",
        "sns.set(rc={'figure.figsize':(5,5)})"
      ],
      "execution_count": 6,
      "outputs": []
    },
    {
      "cell_type": "markdown",
      "metadata": {
        "id": "xe6QVDEOYqzF"
      },
      "source": [
        "1. Uniform Distribution\n",
        "Perhaps one of the simplest and useful distribution is the uniform distribution. The probability distribution function of the continuous uniform distribution is:\n",
        "\n",
        "\n",
        "Since any interval of numbers of equal width has an equal probability of being observed, the curve describing the distribution is a rectangle, with constant height across the interval and 0 height elsewhere. Since the area under the curve must be equal to 1, the length of the interval determines the height of the curve. The following figure shows a uniform distribution in interval (a,b). Notice since the area needs to be 1. The height is set to 1/(b−a).\n",
        "\n",
        "\n",
        "You can visualize uniform distribution in python with the help of a random number generator acting over an interval of numbers (a,b). You need to import the uniform function from scipy.stats module."
      ]
    },
    {
      "cell_type": "code",
      "metadata": {
        "id": "eTycD8ldYueE"
      },
      "source": [
        "from scipy.stats import uniform"
      ],
      "execution_count": 7,
      "outputs": []
    },
    {
      "cell_type": "markdown",
      "metadata": {
        "id": "lSnJQaRWYyEd"
      },
      "source": [
        "The uniform function generates a uniform continuous variable between the specified interval via its loc and scale arguments. This distribution is constant between loc and loc + scale. The size arguments describe the number of random variates. If you want to maintain reproducibility, include a random_state argument assigned to a number."
      ]
    },
    {
      "cell_type": "code",
      "metadata": {
        "id": "umiLI7J3Y0tG"
      },
      "source": [
        "# random numbers from uniform distribution\n",
        "n = 10000\n",
        "start = 10\n",
        "width = 20\n",
        "data_uniform = uniform.rvs(size=n, loc = start, scale=width)"
      ],
      "execution_count": 8,
      "outputs": []
    },
    {
      "cell_type": "markdown",
      "metadata": {
        "id": "nYAkLMgIY8oU"
      },
      "source": [
        "You can use Seaborn’s distplot to plot the histogram of the distribution you just created. Seaborn’s distplot takes in multiple arguments to customize the plot. You first create a plot object ax. Here, you can specify the number of bins in the histogram, specify the color of the histogram and specify density plot option with kde and linewidth option with hist_kws. You can also set labels for x and y axis using the xlabel and ylabel arguments."
      ]
    },
    {
      "cell_type": "code",
      "metadata": {
        "id": "kzksZ29DZAq-",
        "outputId": "7b62399e-ca03-4569-f1fb-c6c854b59012",
        "colab": {
          "base_uri": "https://localhost:8080/",
          "height": 410
        }
      },
      "source": [
        "ax = sns.distplot(data_uniform,\n",
        "                  bins=100,\n",
        "                  kde=True,\n",
        "                  color='skyblue',\n",
        "                  hist_kws={\"linewidth\": 15,'alpha':1})\n",
        "ax.set(xlabel='Uniform Distribution ', ylabel='Frequency')"
      ],
      "execution_count": 9,
      "outputs": [
        {
          "output_type": "stream",
          "text": [
            "/usr/local/lib/python3.6/dist-packages/seaborn/distributions.py:2551: FutureWarning: `distplot` is a deprecated function and will be removed in a future version. Please adapt your code to use either `displot` (a figure-level function with similar flexibility) or `histplot` (an axes-level function for histograms).\n",
            "  warnings.warn(msg, FutureWarning)\n"
          ],
          "name": "stderr"
        },
        {
          "output_type": "execute_result",
          "data": {
            "text/plain": [
              "[Text(0, 0.5, 'Frequency'), Text(0.5, 0, 'Uniform Distribution ')]"
            ]
          },
          "metadata": {
            "tags": []
          },
          "execution_count": 9
        },
        {
          "output_type": "display_data",
          "data": {
            "image/png": "[encoded data removed]",
            "text/plain": [
              "<Figure size 360x360 with 1 Axes>"
            ]
          },
          "metadata": {
            "tags": []
          }
        }
      ]
    },
    {
      "cell_type": "code",
      "metadata": {
        "id": "REF_jLukZGS1"
      },
      "source": [
        "\n",
        "[Text(0,0.5,u'Frequency'), Text(0.5,0,u'Uniform Distribution ')]\n"
      ],
      "execution_count": null,
      "outputs": []
    },
    {
      "cell_type": "markdown",
      "metadata": {
        "id": "klT_BeI_ZYVm"
      },
      "source": [
        "# 2. Normal Distribution\n",
        "Normal Distribution, also known as Gaussian distribution, is ubiquitous in Data Science. You will encounter it at many places especially in topics of statistical inference. It is one of the assumptions of many data science algorithms too.\n",
        "\n",
        "A normal distribution has a bell-shaped density curve described by its mean μ and standard deviation σ. The density curve is symmetrical, centered about its mean, with its spread determined by its standard deviation showing that data near the mean are more frequent in occurrence than data far from the mean. The probability distribution function of a normal density curve with mean μ and standard deviation σ at a given point x is given by:"
      ]
    },
    {
      "cell_type": "markdown",
      "metadata": {
        "id": "-uCt3K_SZkGe"
      },
      "source": [
        "Almost 68% of the data falls within a distance of one standard deviation from the mean on either side and 95% within two standard deviations. Also it worth mentioning that a distribution with mean 0 and standard deviation 1 is called a standard normal distribution.\n",
        "\n",
        "You can generate a normally distributed random variable using scipy.stats module's norm.rvs() method. The loc argument corresponds to the mean of the distribution. scale corresponds to standard deviation and size to the number of random variates. If you want to maintain reproducibility, include a random_state argument assigned to a number."
      ]
    },
    {
      "cell_type": "code",
      "metadata": {
        "id": "xyVoR0tSZlgW"
      },
      "source": [
        "from scipy.stats import norm\n",
        "# generate random numbers from N(0,1)\n",
        "data_normal = norm.rvs(size=10000,loc=0,scale=1)"
      ],
      "execution_count": 13,
      "outputs": []
    },
    {
      "cell_type": "markdown",
      "metadata": {
        "id": "sU4Nbdg1Zv-G"
      },
      "source": [
        "You can visualize the distribution just like you did with the uniform distribution, using seaborn's distplot functions. The meaning of the arguments remains the same as in the last case."
      ]
    },
    {
      "cell_type": "code",
      "metadata": {
        "id": "WCGRUdxsZrnm",
        "outputId": "3564d6e8-ecd4-4440-92ea-b1d2df528d3a",
        "colab": {
          "base_uri": "https://localhost:8080/",
          "height": 410
        }
      },
      "source": [
        "ax = sns.distplot(data_normal,\n",
        "                  bins=100,\n",
        "                  kde=True,\n",
        "                  color='skyblue',\n",
        "                  hist_kws={\"linewidth\": 15,'alpha':1})\n",
        "ax.set(xlabel='Normal Distribution', ylabel='Frequency')"
      ],
      "execution_count": 14,
      "outputs": [
        {
          "output_type": "stream",
          "text": [
            "/usr/local/lib/python3.6/dist-packages/seaborn/distributions.py:2551: FutureWarning: `distplot` is a deprecated function and will be removed in a future version. Please adapt your code to use either `displot` (a figure-level function with similar flexibility) or `histplot` (an axes-level function for histograms).\n",
            "  warnings.warn(msg, FutureWarning)\n"
          ],
          "name": "stderr"
        },
        {
          "output_type": "execute_result",
          "data": {
            "text/plain": [
              "[Text(0, 0.5, 'Frequency'), Text(0.5, 0, 'Normal Distribution')]"
            ]
          },
          "metadata": {
            "tags": []
          },
          "execution_count": 14
        },
        {
          "output_type": "display_data",
          "data": {
            "image/png": "[encoded data removed]",
            "text/plain": [
              "<Figure size 360x360 with 1 Axes>"
            ]
          },
          "metadata": {
            "tags": []
          }
        }
      ]
    },
    {
      "cell_type": "markdown",
      "metadata": {
        "id": "idqhTYtlZ5LO"
      },
      "source": [
        "3. Gamma Distribution\n",
        "The gamma distribution is a two-parameter family of continuous probability distributions. While it is used rarely in its raw form but other popularly used distributions like exponential, chi-squared, erlang distributions are special cases of the gamma distribution. The gamma distribution can be parameterized in terms of a shape parameter α=k and an inverse scale parameter β=1/θ, called a rate parameter., the symbol Γ(n) is the gamma function and is defined as (n−1)! :\n",
        "\n"
      ]
    },
    {
      "cell_type": "markdown",
      "metadata": {
        "id": "bmkxCJXhZ_KH"
      },
      "source": [
        "You can generate a gamma distributed random variable using scipy.stats module's gamma.rvs() method which takes shape parameter a as its argument. When a is an integer, gamma reduces to the Erlang distribution, and when a=1 to the exponential distribution. To shift distribution use the loc argument, to scale use scale argument, size decides the number of random variates in the distribution. If you want to maintain reproducibility, include a random_state argument assigned to a number."
      ]
    },
    {
      "cell_type": "code",
      "metadata": {
        "id": "k5lLT9XIaRdc"
      },
      "source": [
        "from scipy.stats import gamma\n",
        "data_gamma = gamma.rvs(a=5, size=10000)"
      ],
      "execution_count": 15,
      "outputs": []
    },
    {
      "cell_type": "markdown",
      "metadata": {
        "id": "Nyg5a7OQaI5n"
      },
      "source": [
        "**You can visualize the distribution just like you did with the uniform distribution, using seaborn's distplot functions. The meaning of the arguments remains the same as explained in the uniform distribution section.**"
      ]
    },
    {
      "cell_type": "code",
      "metadata": {
        "id": "7yu9eWUfZ65Y",
        "outputId": "bcd3bbb0-cc24-48c1-bdff-2f3d6b8f1502",
        "colab": {
          "base_uri": "https://localhost:8080/",
          "height": 410
        }
      },
      "source": [
        "ax = sns.distplot(data_gamma,\n",
        "                  kde=True,\n",
        "                  bins=100,\n",
        "                  color='skyblue',\n",
        "                  hist_kws={\"linewidth\": 15,'alpha':1})\n",
        "ax.set(xlabel='Gamma Distribution', ylabel='Frequency')"
      ],
      "execution_count": 16,
      "outputs": [
        {
          "output_type": "stream",
          "text": [
            "/usr/local/lib/python3.6/dist-packages/seaborn/distributions.py:2551: FutureWarning: `distplot` is a deprecated function and will be removed in a future version. Please adapt your code to use either `displot` (a figure-level function with similar flexibility) or `histplot` (an axes-level function for histograms).\n",
            "  warnings.warn(msg, FutureWarning)\n"
          ],
          "name": "stderr"
        },
        {
          "output_type": "execute_result",
          "data": {
            "text/plain": [
              "[Text(0, 0.5, 'Frequency'), Text(0.5, 0, 'Gamma Distribution')]"
            ]
          },
          "metadata": {
            "tags": []
          },
          "execution_count": 16
        },
        {
          "output_type": "display_data",
          "data": {
            "image/png": "[encoded data removed]",
            "text/plain": [
              "<Figure size 360x360 with 1 Axes>"
            ]
          },
          "metadata": {
            "tags": []
          }
        }
      ]
    },
    {
      "cell_type": "markdown",
      "metadata": {
        "id": "PZrH84Wsagrg"
      },
      "source": [
        "4. Exponential Distribution\n",
        "The exponential distribution describes the time between events in a Poisson point process, i.e., a process in which events occur continuously and independently at a constant average rate. It has a parameter λ called rate parameter, and its equation is described as :\n",
        "\n",
        "\n",
        "A decreasing exponential distribution looks like :\n",
        "\n",
        "\n",
        "You can generate an exponentially distributed random variable using scipy.stats module's expon.rvs() method which takes shape parameter scale as its argument which is nothing but 1/lambda in the equation. To shift distribution use the loc argument, size decides the number of random variates in the distribution. If you want to maintain reproducibility, include a random_state argument assigned to a number."
      ]
    },
    {
      "cell_type": "code",
      "metadata": {
        "id": "5rr6GCApanEg"
      },
      "source": [
        "from scipy.stats import expon\n",
        "data_expon = expon.rvs(scale=1,loc=0,size=1000)"
      ],
      "execution_count": 17,
      "outputs": []
    },
    {
      "cell_type": "code",
      "metadata": {
        "id": "FvOYPwvkarSp",
        "outputId": "65743128-602c-469c-b33b-41ff638eddc6",
        "colab": {
          "base_uri": "https://localhost:8080/",
          "height": 410
        }
      },
      "source": [
        "ax = sns.distplot(data_expon,\n",
        "                  kde=True,\n",
        "                  bins=100,\n",
        "                  color='skyblue',\n",
        "                  hist_kws={\"linewidth\": 15,'alpha':1})\n",
        "ax.set(xlabel='Exponential Distribution', ylabel='Frequency')"
      ],
      "execution_count": 18,
      "outputs": [
        {
          "output_type": "stream",
          "text": [
            "/usr/local/lib/python3.6/dist-packages/seaborn/distributions.py:2551: FutureWarning: `distplot` is a deprecated function and will be removed in a future version. Please adapt your code to use either `displot` (a figure-level function with similar flexibility) or `histplot` (an axes-level function for histograms).\n",
            "  warnings.warn(msg, FutureWarning)\n"
          ],
          "name": "stderr"
        },
        {
          "output_type": "execute_result",
          "data": {
            "text/plain": [
              "[Text(0, 0.5, 'Frequency'), Text(0.5, 0, 'Exponential Distribution')]"
            ]
          },
          "metadata": {
            "tags": []
          },
          "execution_count": 18
        },
        {
          "output_type": "display_data",
          "data": {
            "image/png": "[encoded data removed]",
            "text/plain": [
              "<Figure size 360x360 with 1 Axes>"
            ]
          },
          "metadata": {
            "tags": []
          }
        }
      ]
    },
    {
      "cell_type": "markdown",
      "metadata": {
        "id": "ar4dq3fybIxj"
      },
      "source": [
        "# 5. Poisson Distribution\n",
        "Poisson random variable is typically used to model the number of times an event happened in a time interval. For example, the number of users visited on a website in an interval can be thought of a Poisson process. Poisson distribution is described in terms of the rate (μ) at which the events happen. An event can occur 0, 1, 2, … times in an interval. The average number of events in an interval is designated λ (lambda). Lambda is the event rate, also called the rate parameter. The probability of observing k events in an interval is given by the equation:"
      ]
    },
    {
      "cell_type": "markdown",
      "metadata": {
        "id": "Tr35xjXMbSTp"
      },
      "source": [
        "You can generate a poisson distributed discrete random variable using scipy.stats module's poisson.rvs() method which takes μ as a shape parameter and is nothing but the λ in the equation. To shift distribution use the loc parameter. size decides the number of random variates in the distribution. If you want to maintain reproducibility, include a random_state argument assigned to a number."
      ]
    },
    {
      "cell_type": "code",
      "metadata": {
        "id": "aguykqxobTbj"
      },
      "source": [
        "from scipy.stats import poisson\n",
        "data_poisson = poisson.rvs(mu=3, size=10000)"
      ],
      "execution_count": 19,
      "outputs": []
    },
    {
      "cell_type": "markdown",
      "metadata": {
        "id": "zt71tv3BbbC6"
      },
      "source": [
        "You can visualize the distribution just like you did with the uniform distribution, using seaborn's distplot functions. The meaning of the arguments remains the same."
      ]
    },
    {
      "cell_type": "code",
      "metadata": {
        "id": "59xrOrzibcS6",
        "outputId": "81c0a305-3b4a-4ce8-8914-82d87f953048",
        "colab": {
          "base_uri": "https://localhost:8080/",
          "height": 410
        }
      },
      "source": [
        "ax = sns.distplot(data_poisson,\n",
        "                  bins=30,\n",
        "                  kde=False,\n",
        "                  color='skyblue',\n",
        "                  hist_kws={\"linewidth\": 15,'alpha':1})\n",
        "ax.set(xlabel='Poisson Distribution', ylabel='Frequency')"
      ],
      "execution_count": 20,
      "outputs": [
        {
          "output_type": "stream",
          "text": [
            "/usr/local/lib/python3.6/dist-packages/seaborn/distributions.py:2551: FutureWarning: `distplot` is a deprecated function and will be removed in a future version. Please adapt your code to use either `displot` (a figure-level function with similar flexibility) or `histplot` (an axes-level function for histograms).\n",
            "  warnings.warn(msg, FutureWarning)\n"
          ],
          "name": "stderr"
        },
        {
          "output_type": "execute_result",
          "data": {
            "text/plain": [
              "[Text(0, 0.5, 'Frequency'), Text(0.5, 0, 'Poisson Distribution')]"
            ]
          },
          "metadata": {
            "tags": []
          },
          "execution_count": 20
        },
        {
          "output_type": "display_data",
          "data": {
            "image/png": "[encoded data removed]",
            "text/plain": [
              "<Figure size 360x360 with 1 Axes>"
            ]
          },
          "metadata": {
            "tags": []
          }
        }
      ]
    },
    {
      "cell_type": "markdown",
      "metadata": {
        "id": "Xd7qlZFZbmXQ"
      },
      "source": [
        "# 6. Binomial Distribution\n",
        "A distribution where only two outcomes are possible, such as success or failure, gain or loss, win or lose and where the probability of success and failure is same for all the trials is called a Binomial Distribution. However, The outcomes need not be equally likely, and each trial is independent of each other. The parameters of a binomial distribution are n and p where n is the total number of trials, and p is the probability of success in each trial. Its probability distribution function is given by :\n",
        "\n",
        "\n",
        "where :\n",
        "\n",
        "\n",
        "You can generate a binomial distributed discrete random variable using scipy.stats module's binom.rvs() method which takes n (number of trials) and p (probability of success) as shape parameters. To shift distribution use the loc parameter. size decides the number of times to repeat the trials. If you want to maintain reproducibility, include a random_state argument assigned to a number."
      ]
    },
    {
      "cell_type": "code",
      "metadata": {
        "id": "HRx1zcWubhVq"
      },
      "source": [
        "from scipy.stats import binom\n",
        "data_binom = binom.rvs(n=10,p=0.8,size=10000)"
      ],
      "execution_count": 21,
      "outputs": []
    },
    {
      "cell_type": "code",
      "metadata": {
        "id": "aVg0ZCfcbvgS",
        "outputId": "6a9f9322-bc4d-4f0a-daf7-4f30695a04d3",
        "colab": {
          "base_uri": "https://localhost:8080/",
          "height": 410
        }
      },
      "source": [
        "ax = sns.distplot(data_binom,\n",
        "                  kde=False,\n",
        "                  color='skyblue',\n",
        "                  hist_kws={\"linewidth\": 15,'alpha':1})\n",
        "ax.set(xlabel='Binomial Distribution', ylabel='Frequency')"
      ],
      "execution_count": 22,
      "outputs": [
        {
          "output_type": "stream",
          "text": [
            "/usr/local/lib/python3.6/dist-packages/seaborn/distributions.py:2551: FutureWarning: `distplot` is a deprecated function and will be removed in a future version. Please adapt your code to use either `displot` (a figure-level function with similar flexibility) or `histplot` (an axes-level function for histograms).\n",
            "  warnings.warn(msg, FutureWarning)\n"
          ],
          "name": "stderr"
        },
        {
          "output_type": "execute_result",
          "data": {
            "text/plain": [
              "[Text(0, 0.5, 'Frequency'), Text(0.5, 0, 'Binomial Distribution')]"
            ]
          },
          "metadata": {
            "tags": []
          },
          "execution_count": 22
        },
        {
          "output_type": "display_data",
          "data": {
            "image/png": "[encoded data removed]",
            "text/plain": [
              "<Figure size 360x360 with 1 Axes>"
            ]
          },
          "metadata": {
            "tags": []
          }
        }
      ]
    },
    {
      "cell_type": "markdown",
      "metadata": {
        "id": "OL0wlnmZbxyi"
      },
      "source": [
        "# 7. Bernoulli Distribution\n",
        "A Bernoulli distribution has only two possible outcomes, namely 1 (success) and 0 (failure), and a single trial, for example, a coin toss. So the random variable X which has a Bernoulli distribution can take value 1 with the probability of success, p, and the value 0 with the probability of failure, q or 1−p. The probabilities of success and failure need not be equally likely. The Bernoulli distribution is a special case of the binomial distribution where a single trial is conducted (n=1). Its probability mass function is given by:\n",
        "\n",
        "\n",
        "You can generate a bernoulli distributed discrete random variable using scipy.stats module's bernoulli.rvs() method which takes p (probability of success) as a shape parameter. To shift distribution use the loc parameter. size decides the number of times to repeat the trials. If you want to maintain reproducibility, include a random_state argument assigned to a number."
      ]
    },
    {
      "cell_type": "code",
      "metadata": {
        "id": "M3GA3kCGcBu1"
      },
      "source": [
        "from scipy.stats import bernoulli\n",
        "data_bern = bernoulli.rvs(size=10000,p=0.6)"
      ],
      "execution_count": 23,
      "outputs": []
    },
    {
      "cell_type": "code",
      "metadata": {
        "id": "jPi-h5XYcE9T",
        "outputId": "111271df-8a33-448c-c484-2145dcca6305",
        "colab": {
          "base_uri": "https://localhost:8080/",
          "height": 410
        }
      },
      "source": [
        "ax= sns.distplot(data_bern,\n",
        "                 kde=False,\n",
        "                 color=\"skyblue\",\n",
        "                 hist_kws={\"linewidth\": 15,'alpha':1})\n",
        "ax.set(xlabel='Bernoulli Distribution', ylabel='Frequency')"
      ],
      "execution_count": 24,
      "outputs": [
        {
          "output_type": "stream",
          "text": [
            "/usr/local/lib/python3.6/dist-packages/seaborn/distributions.py:2551: FutureWarning: `distplot` is a deprecated function and will be removed in a future version. Please adapt your code to use either `displot` (a figure-level function with similar flexibility) or `histplot` (an axes-level function for histograms).\n",
            "  warnings.warn(msg, FutureWarning)\n"
          ],
          "name": "stderr"
        },
        {
          "output_type": "execute_result",
          "data": {
            "text/plain": [
              "[Text(0, 0.5, 'Frequency'), Text(0.5, 0, 'Bernoulli Distribution')]"
            ]
          },
          "metadata": {
            "tags": []
          },
          "execution_count": 24
        },
        {
          "output_type": "display_data",
          "data": {
            "image/png": "[encoded data removed]",
            "text/plain": [
              "<Figure size 360x360 with 1 Axes>"
            ]
          },
          "metadata": {
            "tags": []
          }
        }
      ]
    },
    {
      "cell_type": "markdown",
      "metadata": {
        "id": "TNU9piOzcKIz"
      },
      "source": [
        "# Conclusion\n",
        "you explored some commonly used probability distributions and learned to create and plot them in python. Although there are many other distributions to be explored, this will be sufficient for you to get started. Don't forget to check out python's scipy library which has other cool statistical functionalities. Happy exploring!"
      ]
    }
  ]
}