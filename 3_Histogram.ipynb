{
  "nbformat": 4,
  "nbformat_minor": 0,
  "metadata": {
    "colab": {
      "name": "3.Histogram.ipynb",
      "provenance": [],
      "authorship_tag": "ABX9TyPHIB6CnvVEE5PBLsXPq+vT",
      "include_colab_link": true
    },
    "kernelspec": {
      "name": "python3",
      "display_name": "Python 3"
    }
  },
  "cells": [
    {
      "cell_type": "markdown",
      "metadata": {
        "id": "view-in-github",
        "colab_type": "text"
      },
      "source": [
        "<a href=\"https://colab.research.google.com/github/surajgazi100/DATA_SCIENCE_STATISTICS/blob/main/3_Histogram.ipynb\" target=\"_parent\"><img src=\"https://colab.research.google.com/assets/colab-badge.svg\" alt=\"Open In Colab\"/></a>"
      ]
    },
    {
      "cell_type": "markdown",
      "metadata": {
        "id": "QybMSIZ_MR_x"
      },
      "source": [
        "# Histograms in Matplotlib\n",
        "Learn about histograms and how you can use them to gain insights from data with the help of matplotlib.\n"
      ]
    },
    {
      "cell_type": "markdown",
      "metadata": {
        "id": "wZX7VCQ4McwS"
      },
      "source": [
        "\n",
        "Introduction\n",
        "According to Wikipedia, A histogram is an accurate graphical representation of the distribution of numerical data. It is an estimate of the probability distribution of a continuous variable (quantitative variable) and was first introduced by Karl Pearson. It is a type of bar graph. To construct a histogram, the first step is to “bin” the range of values — that is, divide the entire range of values into a series of intervals — and then count how many values fall into each interval. The bins are usually specified as consecutive, non-overlapping intervals of a variable. The bins (intervals) must be adjacent and are often (but are not required to be) of equal size.\n",
        "\n",
        "Apart, from numerical data, Histograms can also be used for visualizing the distribution of images, since the images are nothing but a combination of picture elements (pixels) ranging from 0 to 255. The x-axis of the histogram denotes the number of bins while the y-axis represents the frequency of a particular bin. The number of bins is a parameter which can be varied based on how you want to visualize the distribution of your data.\n",
        "\n",
        "For example: Let's say, you would like to plot a histogram of an RGB image having pixel values ranging from 0 to 255. The maximum of bins this image can have is 255. If you keep x_axis (number of bins) as 255, then the y_axis will denote the frequency of each pixel in that image.\n",
        "\n",
        "Histograms are similar in spirit to bar graphs, let's take a look at one pictorial example of a histogram:\n",
        "\n"
      ]
    },
    {
      "cell_type": "markdown",
      "metadata": {
        "id": "mhYJcHUoM4rS"
      },
      "source": [
        "A histogram is an excellent tool for visualizing and understanding the probabilistic distribution of numerical data or image data that is intuitively understood by almost everyone. Python has a lot of different options for building and plotting histograms. Python has few in-built libraries for creating graphs, and one such library is matplotlib.\n",
        "\n",
        "In today's tutorial, you will be mostly using matplotlib to create and visualize histograms on various kinds of data sets.\n",
        "\n",
        "So without any further ado, let's get started."
      ]
    },
    {
      "cell_type": "code",
      "metadata": {
        "id": "gPmA0juRM3L3"
      },
      "source": [
        "import numpy as np"
      ],
      "execution_count": 1,
      "outputs": []
    },
    {
      "cell_type": "code",
      "metadata": {
        "id": "vM-idwXsLbXv"
      },
      "source": [
        "np.random.seed(100)\n",
        "np_hist = np.random.normal(loc=0, scale=1, size=1000)"
      ],
      "execution_count": 2,
      "outputs": []
    },
    {
      "cell_type": "code",
      "metadata": {
        "id": "yoxddz-iNLrA"
      },
      "source": [
        "array = ([-1.74976547,  0.3426804 ,  1.1530358 , -0.25243604,  0.98132079,\n",
        "        0.51421884,  0.22117967, -1.07004333, -0.18949583,  0.25500144])"
      ],
      "execution_count": 4,
      "outputs": []
    },
    {
      "cell_type": "code",
      "metadata": {
        "id": "3JLPf4fCNZZV",
        "outputId": "546e9691-817b-4253-8451-394e5a3635be",
        "colab": {
          "base_uri": "https://localhost:8080/",
          "height": 34
        }
      },
      "source": [
        "np_hist.mean(),np_hist.std()"
      ],
      "execution_count": 5,
      "outputs": [
        {
          "output_type": "execute_result",
          "data": {
            "text/plain": [
              "(-0.016772157343909157, 1.0458427194167)"
            ]
          },
          "metadata": {
            "tags": []
          },
          "execution_count": 5
        }
      ]
    },
    {
      "cell_type": "code",
      "metadata": {
        "id": "R4QXkSp6Ndt9"
      },
      "source": [
        "hist,bin_edges = np.histogram(np_hist)"
      ],
      "execution_count": 6,
      "outputs": []
    },
    {
      "cell_type": "code",
      "metadata": {
        "id": "JYJlrhdwNgvo",
        "outputId": "df72245f-8654-4faa-d4d5-e50cd525d080",
        "colab": {
          "base_uri": "https://localhost:8080/",
          "height": 34
        }
      },
      "source": [
        "hist"
      ],
      "execution_count": 7,
      "outputs": [
        {
          "output_type": "execute_result",
          "data": {
            "text/plain": [
              "array([  7,  37, 111, 207, 275, 213, 105,  31,  10,   4])"
            ]
          },
          "metadata": {
            "tags": []
          },
          "execution_count": 7
        }
      ]
    },
    {
      "cell_type": "code",
      "metadata": {
        "id": "7uVMh1NfNiQV"
      },
      "source": [
        "array = ([  7,  37, 111, 207, 275, 213, 105,  31,  10,   4])"
      ],
      "execution_count": 8,
      "outputs": []
    },
    {
      "cell_type": "code",
      "metadata": {
        "id": "Qmg-_rjhNocO",
        "outputId": "e2eab18b-7379-4a55-f4b6-b9aad90a9c3d",
        "colab": {
          "base_uri": "https://localhost:8080/",
          "height": 67
        }
      },
      "source": [
        "bin_edges"
      ],
      "execution_count": 9,
      "outputs": [
        {
          "output_type": "execute_result",
          "data": {
            "text/plain": [
              "array([-3.20995538, -2.50316588, -1.79637637, -1.08958687, -0.38279736,\n",
              "        0.32399215,  1.03078165,  1.73757116,  2.44436066,  3.15115017,\n",
              "        3.85793967])"
            ]
          },
          "metadata": {
            "tags": []
          },
          "execution_count": 9
        }
      ]
    },
    {
      "cell_type": "code",
      "metadata": {
        "id": "E0lZ1aXBNtqA"
      },
      "source": [
        "array = ([-3.20995538, -2.50316588, -1.79637637, -1.08958687, -0.38279736,\n",
        "        0.32399215,  1.03078165,  1.73757116,  2.44436066,  3.15115017,\n",
        "        3.85793967])"
      ],
      "execution_count": 10,
      "outputs": []
    },
    {
      "cell_type": "code",
      "metadata": {
        "id": "FCb0Cpl_NxJK"
      },
      "source": [
        "import matplotlib.pyplot as plt\n",
        "%matplotlib inline"
      ],
      "execution_count": 11,
      "outputs": []
    },
    {
      "cell_type": "code",
      "metadata": {
        "id": "Z7mEu_B8N4ny",
        "outputId": "2fc0a594-c836-4b27-add1-4a2a257aa9f4",
        "colab": {
          "base_uri": "https://localhost:8080/",
          "height": 525
        }
      },
      "source": [
        "plt.figure(figsize=[10,8])\n",
        "\n",
        "plt.bar(bin_edges[:-1], hist, width = 0.5, color='#0504aa',alpha=0.7)\n",
        "plt.xlim(min(bin_edges), max(bin_edges))\n",
        "plt.grid(axis='y', alpha=0.75)\n",
        "plt.xlabel('Value',fontsize=15)\n",
        "plt.ylabel('Frequency',fontsize=15)\n",
        "plt.xticks(fontsize=15)\n",
        "plt.yticks(fontsize=15)\n",
        "plt.ylabel('Frequency',fontsize=15)\n",
        "plt.title('Normal Distribution Histogram',fontsize=15)\n",
        "plt.show()"
      ],
      "execution_count": 12,
      "outputs": [
        {
          "output_type": "display_data",
          "data": {
            "image/png": "[encoded data removed]",
            "text/plain": [
              "<Figure size 720x576 with 1 Axes>"
            ]
          },
          "metadata": {
            "tags": [],
            "needs_background": "light"
          }
        }
      ]
    },
    {
      "cell_type": "code",
      "metadata": {
        "id": "Vn75jPN4N62J"
      },
      "source": [
        "bin_edges = np.round(bin_edges,0)"
      ],
      "execution_count": 13,
      "outputs": []
    },
    {
      "cell_type": "code",
      "metadata": {
        "id": "QfFTL0HFOBds",
        "outputId": "c9c3029b-c2a1-4bd6-e646-35170f932dcf",
        "colab": {
          "base_uri": "https://localhost:8080/",
          "height": 525
        }
      },
      "source": [
        "plt.figure(figsize=[10,8])\n",
        "\n",
        "plt.bar(bin_edges[:-1], hist, width = 0.5, color='#0504aa',alpha=0.7)\n",
        "plt.xlim(min(bin_edges), max(bin_edges))\n",
        "plt.grid(axis='y', alpha=0.75)\n",
        "plt.xlabel('Value',fontsize=15)\n",
        "plt.ylabel('Frequency',fontsize=15)\n",
        "plt.xticks(fontsize=15)\n",
        "plt.yticks(fontsize=15)\n",
        "plt.ylabel('Frequency',fontsize=15)\n",
        "plt.title('Normal Distribution Histogram',fontsize=15)\n",
        "plt.show()"
      ],
      "execution_count": 14,
      "outputs": [
        {
          "output_type": "display_data",
          "data": {
            "image/png": "[encoded data removed]",
            "text/plain": [
              "<Figure size 720x576 with 1 Axes>"
            ]
          },
          "metadata": {
            "tags": [],
            "needs_background": "light"
          }
        }
      ]
    },
    {
      "cell_type": "markdown",
      "metadata": {
        "id": "aCZ2IW-rOKoY"
      },
      "source": [
        "Now the graph looks much better, doesn't it?\n",
        "\n",
        "To understand hist and bin_edges, let's look at an example:\n",
        "\n",
        "You will define an array having arbitrary values and define bins with a range of 5"
      ]
    },
    {
      "cell_type": "code",
      "metadata": {
        "id": "0CUnY2J3OLrB",
        "outputId": "693af72e-293b-46f8-fa05-fa4dbc9e6413",
        "colab": {
          "base_uri": "https://localhost:8080/",
          "height": 34
        }
      },
      "source": [
        "hist, bin_edges = np.histogram([1, 1, 2, 2, 2, 2, 3],bins=range(5))\n",
        "hist"
      ],
      "execution_count": 16,
      "outputs": [
        {
          "output_type": "execute_result",
          "data": {
            "text/plain": [
              "array([0, 2, 4, 1])"
            ]
          },
          "metadata": {
            "tags": []
          },
          "execution_count": 16
        }
      ]
    },
    {
      "cell_type": "code",
      "metadata": {
        "id": "uK9bSHnGOUM7"
      },
      "source": [
        "array = ([0, 2, 4, 1])"
      ],
      "execution_count": 17,
      "outputs": []
    },
    {
      "cell_type": "code",
      "metadata": {
        "id": "6Udy0ZDWOYZb",
        "outputId": "95d7481d-1a31-4089-e7f3-a82aa53fcd5f",
        "colab": {
          "base_uri": "https://localhost:8080/",
          "height": 34
        }
      },
      "source": [
        "bin_edges"
      ],
      "execution_count": 18,
      "outputs": [
        {
          "output_type": "execute_result",
          "data": {
            "text/plain": [
              "array([0, 1, 2, 3, 4])"
            ]
          },
          "metadata": {
            "tags": []
          },
          "execution_count": 18
        }
      ]
    },
    {
      "cell_type": "code",
      "metadata": {
        "id": "WfHWfml5OcO_"
      },
      "source": [
        "array=([0, 1, 2, 3, 4])"
      ],
      "execution_count": 19,
      "outputs": []
    },
    {
      "cell_type": "markdown",
      "metadata": {
        "id": "cGDZ-EA0Ojt7"
      },
      "source": [
        "# Plotting Histogram using only Matplotlib\n",
        "Plotting histogram using matplotlib is a piece of cake. All you have to do is use plt.hist() function of matplotlib and pass in the data along with the number of bins and a few optional parameters.\n",
        "\n",
        "In plt.hist(), passing bins='auto' gives you the “ideal” number of bins. The idea is to select a bin width that generates the most faithful representation of your data.\n",
        "\n",
        "That's all. So, let's plot the histogram of the normal_distribution you built using numpy."
      ]
    },
    {
      "cell_type": "code",
      "metadata": {
        "id": "wVfShjeqOmTN",
        "outputId": "2ea80735-c2d1-4ea8-cee1-a4c196b0e162",
        "colab": {
          "base_uri": "https://localhost:8080/",
          "height": 525
        }
      },
      "source": [
        "plt.figure(figsize=[10,8])\n",
        "n, bins, patches = plt.hist(x=np_hist, bins=8, color='#0504aa',alpha=0.7, rwidth=0.85)\n",
        "plt.grid(axis='y', alpha=0.75)\n",
        "plt.xlabel('Value',fontsize=15)\n",
        "plt.ylabel('Frequency',fontsize=15)\n",
        "plt.xticks(fontsize=15)\n",
        "plt.yticks(fontsize=15)\n",
        "plt.ylabel('Frequency',fontsize=15)\n",
        "plt.title('Normal Distribution Histogram',fontsize=15)\n",
        "plt.show()"
      ],
      "execution_count": 20,
      "outputs": [
        {
          "output_type": "display_data",
          "data": {
            "image/png": "[encoded data removed]",
            "text/plain": [
              "<Figure size 720x576 with 1 Axes>"
            ]
          },
          "metadata": {
            "tags": [],
            "needs_background": "light"
          }
        }
      ]
    },
    {
      "cell_type": "code",
      "metadata": {
        "id": "jPuAC8GlOsUU",
        "outputId": "68d24aac-b902-4a74-fec7-1a6edbb06406",
        "colab": {
          "base_uri": "https://localhost:8080/",
          "height": 483
        }
      },
      "source": [
        "plt.figure(figsize=[10,8])\n",
        "x = 0.3*np.random.randn(1000)\n",
        "y = 0.3*np.random.randn(1000)\n",
        "n, bins, patches = plt.hist([x, y])"
      ],
      "execution_count": 21,
      "outputs": [
        {
          "output_type": "display_data",
          "data": {
            "image/png": "[encoded data removed]",
            "text/plain": [
              "<Figure size 720x576 with 1 Axes>"
            ]
          },
          "metadata": {
            "tags": [],
            "needs_background": "light"
          }
        }
      ]
    },
    {
      "cell_type": "markdown",
      "metadata": {
        "id": "VjEml1X3Oved"
      },
      "source": [
        "# Plotting histogram of Iris data using Pandas\n",
        "You will use sklearn to load a dataset called iris. In sklearn, you have a library called datasets in which you have the Iris dataset that can be loaded on the fly. So, let's quickly load the iris dataset."
      ]
    },
    {
      "cell_type": "code",
      "metadata": {
        "id": "A85RAK1VO0qN"
      },
      "source": [
        "from sklearn.datasets import load_iris\n",
        "import pandas as pd\n",
        "data = load_iris().data\n",
        "names = ['sepal-length', 'sepal-width', 'petal-length', 'petal-width']"
      ],
      "execution_count": 23,
      "outputs": []
    },
    {
      "cell_type": "code",
      "metadata": {
        "id": "0sv_cPiLO_b8"
      },
      "source": [
        "dataset = pd.DataFrame(data,columns=names)"
      ],
      "execution_count": 24,
      "outputs": []
    },
    {
      "cell_type": "code",
      "metadata": {
        "id": "twRPOzIyPCTz",
        "outputId": "11fadb66-27b2-4012-e59b-e2aa32b4be1e",
        "colab": {
          "base_uri": "https://localhost:8080/",
          "height": 195
        }
      },
      "source": [
        "dataset.head()"
      ],
      "execution_count": 25,
      "outputs": [
        {
          "output_type": "execute_result",
          "data": {
            "text/html": [
              "<div>\n",
              "<style scoped>\n",
              "    .dataframe tbody tr th:only-of-type {\n",
              "        vertical-align: middle;\n",
              "    }\n",
              "\n",
              "    .dataframe tbody tr th {\n",
              "        vertical-align: top;\n",
              "    }\n",
              "\n",
              "    .dataframe thead th {\n",
              "        text-align: right;\n",
              "    }\n",
              "</style>\n",
              "<table border=\"1\" class=\"dataframe\">\n",
              "  <thead>\n",
              "    <tr style=\"text-align: right;\">\n",
              "      <th></th>\n",
              "      <th>sepal-length</th>\n",
              "      <th>sepal-width</th>\n",
              "      <th>petal-length</th>\n",
              "      <th>petal-width</th>\n",
              "    </tr>\n",
              "  </thead>\n",
              "  <tbody>\n",
              "    <tr>\n",
              "      <th>0</th>\n",
              "      <td>5.1</td>\n",
              "      <td>3.5</td>\n",
              "      <td>1.4</td>\n",
              "      <td>0.2</td>\n",
              "    </tr>\n",
              "    <tr>\n",
              "      <th>1</th>\n",
              "      <td>4.9</td>\n",
              "      <td>3.0</td>\n",
              "      <td>1.4</td>\n",
              "      <td>0.2</td>\n",
              "    </tr>\n",
              "    <tr>\n",
              "      <th>2</th>\n",
              "      <td>4.7</td>\n",
              "      <td>3.2</td>\n",
              "      <td>1.3</td>\n",
              "      <td>0.2</td>\n",
              "    </tr>\n",
              "    <tr>\n",
              "      <th>3</th>\n",
              "      <td>4.6</td>\n",
              "      <td>3.1</td>\n",
              "      <td>1.5</td>\n",
              "      <td>0.2</td>\n",
              "    </tr>\n",
              "    <tr>\n",
              "      <th>4</th>\n",
              "      <td>5.0</td>\n",
              "      <td>3.6</td>\n",
              "      <td>1.4</td>\n",
              "      <td>0.2</td>\n",
              "    </tr>\n",
              "  </tbody>\n",
              "</table>\n",
              "</div>"
            ],
            "text/plain": [
              "   sepal-length  sepal-width  petal-length  petal-width\n",
              "0           5.1          3.5           1.4          0.2\n",
              "1           4.9          3.0           1.4          0.2\n",
              "2           4.7          3.2           1.3          0.2\n",
              "3           4.6          3.1           1.5          0.2\n",
              "4           5.0          3.6           1.4          0.2"
            ]
          },
          "metadata": {
            "tags": []
          },
          "execution_count": 25
        }
      ]
    },
    {
      "cell_type": "code",
      "metadata": {
        "id": "qgT6Y1Q6PGRM",
        "outputId": "aa68943c-8200-4f6e-a90d-447395794488",
        "colab": {
          "base_uri": "https://localhost:8080/",
          "height": 35
        }
      },
      "source": [
        "dataset.columns[0]\n",
        "'sepal-length'"
      ],
      "execution_count": 26,
      "outputs": [
        {
          "output_type": "execute_result",
          "data": {
            "application/vnd.google.colaboratory.intrinsic+json": {
              "type": "string"
            },
            "text/plain": [
              "'sepal-length'"
            ]
          },
          "metadata": {
            "tags": []
          },
          "execution_count": 26
        }
      ]
    },
    {
      "cell_type": "markdown",
      "metadata": {
        "id": "EKdVSTa1PIuQ"
      },
      "source": [
        "Finally, you will use pandas in-built function .hist() which will plot histograms for all the features that are present in the dataset.\n",
        "\n",
        "Isn't that wonderful?"
      ]
    },
    {
      "cell_type": "code",
      "metadata": {
        "id": "epQ2f7D0PH_k",
        "outputId": "26af5cf0-bd36-4155-8d04-7515105ec5ee",
        "colab": {
          "base_uri": "https://localhost:8080/",
          "height": 533
        }
      },
      "source": [
        "fig = plt.figure(figsize = (8,8))\n",
        "ax = fig.gca()\n",
        "dataset.hist(ax=ax)\n",
        "plt.show()"
      ],
      "execution_count": 27,
      "outputs": [
        {
          "output_type": "stream",
          "text": [
            "/usr/local/lib/python3.6/dist-packages/ipykernel_launcher.py:3: UserWarning: To output multiple subplots, the figure containing the passed axes is being cleared\n",
            "  This is separate from the ipykernel package so we can avoid doing imports until\n"
          ],
          "name": "stderr"
        },
        {
          "output_type": "display_data",
          "data": {
            "image/png": "[encoded data removed]",
            "text/plain": [
              "<Figure size 576x576 with 4 Axes>"
            ]
          },
          "metadata": {
            "tags": [],
            "needs_background": "light"
          }
        }
      ]
    },
    {
      "cell_type": "markdown",
      "metadata": {
        "id": "kpiFnoO6QuNb"
      },
      "source": [
        "The petal-length, petal-width, and sepal-length show a unimodal distribution, whereas sepal-width reflect a Gaussian curve. All these are useful analysis because then you can think of using an algorithm that works well with this kind of distribution."
      ]
    },
    {
      "cell_type": "code",
      "metadata": {
        "id": "KtxBvvL6QvJq",
        "outputId": "c864c594-714e-4b0b-b0ef-ddabb6d2880e",
        "colab": {
          "base_uri": "https://localhost:8080/",
          "height": 314
        }
      },
      "source": [
        "plt.figure(figsize=[10,10])\n",
        "f,a = plt.subplots(2,2)\n",
        "a = a.ravel()\n",
        "for idx,ax in enumerate(a):\n",
        "    ax.hist(dataset.iloc[:,idx], bins='auto', color='#0504aa',alpha=0.7, rwidth=0.85)\n",
        "    ax.set_title(dataset.columns[idx])\n",
        "plt.tight_layout()"
      ],
      "execution_count": 28,
      "outputs": [
        {
          "output_type": "display_data",
          "data": {
            "text/plain": [
              "<Figure size 720x720 with 0 Axes>"
            ]
          },
          "metadata": {
            "tags": []
          }
        },
        {
          "output_type": "display_data",
          "data": {
            "image/png": "[encoded data removed]",
            "text/plain": [
              "<Figure size 432x288 with 4 Axes>"
            ]
          },
          "metadata": {
            "tags": [],
            "needs_background": "light"
          }
        }
      ]
    },
    {
      "cell_type": "markdown",
      "metadata": {
        "id": "tL0kriD4Q9_x"
      },
      "source": [
        "# Plotting Histogram of Binary and RGB Images\n",
        "In the final segment of the tutorial, you will be visualizing two different domain images: binary (document) and natural images. Binary images are those images which have pixel values are mostly 0 or 255, whereas a color channel image can have a pixel value ranging anywhere between 0 to 255.\n",
        "\n",
        "Analyzing the pixel distribution by plotting a histogram of intensity values of an image is the right way of measuring the occurrence of each pixel for a given image. For an 8-bit grayscale image, there are 256 possible intensity values. Hence, to study the difference between the document and the natural images in the pixel distribution domain, you will plot two histograms each for document and natural image respectively. Considering that readable documents have sparsity in them, the distribution of pixels in these document images should be mostly skewed.\n",
        "\n",
        "You will use the opencv module to load the two images, convert them into grayscale by passing a parameter 0 while reading it, and finally resize them to the same size."
      ]
    },
    {
      "cell_type": "code",
      "metadata": {
        "id": "fh89juN5QzzC"
      },
      "source": [
        "import cv2\n",
        "lena_rgb = cv2.imread('lena.png')\n",
        "lena_gray = cv2.cvtColor(lena_rgb,cv2.COLOR_BGR2GRAY)\n",
        "lena_gray.shape\n",
        "(512, 512)\n",
        "binary = cv2.imread('binary.png')\n",
        "binary.shape\n",
        "(1394, 2190, 3)\n",
        "binary = cv2.resize(binary,(512,512),cv2.INTER_CUBIC)\n",
        "binary.shape\n",
        "(512, 512, 3)\n",
        "binary_gray = cv2.cvtColor(binary,cv2.COLOR_BGR2GRAY)\n",
        "binary_gray.shape\n",
        "(512, 512)"
      ],
      "execution_count": null,
      "outputs": []
    },
    {
      "cell_type": "code",
      "metadata": {
        "id": "ZPtEGddtRQfC"
      },
      "source": [
        "plt.figure(figsize=[10,10])\n",
        "\n",
        "plt.subplot(121)\n",
        "plt.imshow(lena_rgb[:,:,::-1])\n",
        "plt.title(\"Natural Image\")\n",
        "\n",
        "plt.subplot(122)\n",
        "plt.imshow(binary[:,:,::-1])\n",
        "plt.title(\"Document Image\")\n",
        "plt.show()"
      ],
      "execution_count": null,
      "outputs": []
    },
    {
      "cell_type": "markdown",
      "metadata": {
        "id": "03ex8OQJRfOB"
      },
      "source": [
        "Note: You will use bins equal to 255, since there are a total of 255 pixels in an image and you want to visualize the frequency of each pixel value of the image ranging from 0 to 255."
      ]
    },
    {
      "cell_type": "code",
      "metadata": {
        "id": "Wo4p76ycRj25"
      },
      "source": [
        "hist, edges = np.histogram(binary_gray,bins=range(255))\n",
        "plt.figure(figsize=[10,8])\n",
        "\n",
        "plt.bar(edges[:-1], hist, width = 0.8, color='#0504aa')\n",
        "plt.xlim(min(edges), max(edges))\n",
        "plt.grid(axis='y', alpha=0.75)\n",
        "plt.xlabel('Value',fontsize=15)\n",
        "plt.ylabel('Frequency',fontsize=15)\n",
        "plt.xticks(fontsize=15)\n",
        "plt.yticks(fontsize=15)\n",
        "plt.ylabel('Frequency',fontsize=15)\n",
        "plt.title('Document Image Histogram',fontsize=15)\n",
        "plt.show()"
      ],
      "execution_count": null,
      "outputs": []
    },
    {
      "cell_type": "code",
      "metadata": {
        "id": "7r6VE8vHRsjY"
      },
      "source": [
        "hist, edges = np.histogram(lena_gray,bins=range(260))\n",
        "plt.figure(figsize=[10,8])\n",
        "\n",
        "plt.bar(edges[:-1], hist, width = 0.5, color='#0504aa')\n",
        "plt.xlim(min(edges), max(edges))\n",
        "plt.grid(axis='y', alpha=0.75)\n",
        "plt.xlabel('Pixels',fontsize=15)\n",
        "plt.ylabel('Frequency of Pixels',fontsize=15)\n",
        "plt.xticks(fontsize=15)\n",
        "plt.yticks(fontsize=15)\n",
        "plt.ylabel('Frequency',fontsize=15)\n",
        "plt.title('Natural Image Histogram',fontsize=15)\n",
        "plt.show()"
      ],
      "execution_count": null,
      "outputs": []
    },
    {
      "cell_type": "markdown",
      "metadata": {
        "id": "SaIPZ4WbR4bA"
      },
      "source": [
        "From the above figures, you can observe that the natural image is spread across all 256 intensities having a random distribution, whereas, the document image shows a unimodal distribution and is mostly skewed between pixel values 0 to 255.\n",
        "\n",
        "Conclusion\n",
        "Congratulations on finishing the tutorial.\n",
        "\n",
        "This tutorial was a good starting point to how you can create a histogram using matplotlib with the help of numpy and pandas.\n",
        "\n",
        "You also learned how you could leverage the power of histogram's to differentiate between two different image domains, namely document and natural image.\n",
        "\n",
        "If you would like to learn more about data visualization techniques, consider taking DataCamp's Data Visualization with Python course.\n",
        "\n",
        "Please feel free to ask any questions related to this tutorial in the comments section below."
      ]
    }
  ]
}