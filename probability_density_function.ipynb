{
  "nbformat": 4,
  "nbformat_minor": 0,
  "metadata": {
    "colab": {
      "name": "probability density function.ipynb",
      "provenance": [],
      "authorship_tag": "ABX9TyNPyYQovawA1eAazBfvo+Ai",
      "include_colab_link": true
    },
    "kernelspec": {
      "name": "python3",
      "display_name": "Python 3"
    }
  },
  "cells": [
    {
      "cell_type": "markdown",
      "metadata": {
        "id": "view-in-github",
        "colab_type": "text"
      },
      "source": [
        "<a href=\"https://colab.research.google.com/github/surajgazi100/DATA_SCIENCE_STATISTICS/blob/main/probability_density_function.ipynb\" target=\"_parent\"><img src=\"https://colab.research.google.com/assets/colab-badge.svg\" alt=\"Open In Colab\"/></a>"
      ]
    },
    {
      "cell_type": "code",
      "metadata": {
        "id": "bwsteVDTkrlI",
        "outputId": "22ce000b-2d25-4b51-95fb-e12f8961e957",
        "colab": {
          "base_uri": "https://localhost:8080/",
          "height": 1000
        }
      },
      "source": [
        "import numpy as np\n",
        "import matplotlib    \n",
        "import matplotlib.pyplot as plt\n",
        "\n",
        "def normal(power, mean, std, val):\n",
        "    a = 1/(np.sqrt(2*np.pi)*std)\n",
        "    diff = np.abs(np.power(val-mean, power))\n",
        "    b = np.exp(-(diff)/(2*std*std))\n",
        "    return a*b\n",
        "\n",
        "pdf_array = []\n",
        "array = np.arange(-2,2,0.1)\n",
        "print (array)\n",
        "for i in array:\n",
        "    print (i)\n",
        "    pdf = normal(2, 0, 0.1, i)\n",
        "    print (pdf)\n",
        "    pdf_array.append(pdf)\n",
        "\n",
        "plt.plot(array, pdf_array)\n",
        "plt.ylabel('some numbers')\n",
        "plt.axis([-2, 2, 0, 5])\n",
        "plt.show()\n"
      ],
      "execution_count": 3,
      "outputs": [
        {
          "output_type": "stream",
          "text": [
            "[-2.00000000e+00 -1.90000000e+00 -1.80000000e+00 -1.70000000e+00\n",
            " -1.60000000e+00 -1.50000000e+00 -1.40000000e+00 -1.30000000e+00\n",
            " -1.20000000e+00 -1.10000000e+00 -1.00000000e+00 -9.00000000e-01\n",
            " -8.00000000e-01 -7.00000000e-01 -6.00000000e-01 -5.00000000e-01\n",
            " -4.00000000e-01 -3.00000000e-01 -2.00000000e-01 -1.00000000e-01\n",
            "  1.77635684e-15  1.00000000e-01  2.00000000e-01  3.00000000e-01\n",
            "  4.00000000e-01  5.00000000e-01  6.00000000e-01  7.00000000e-01\n",
            "  8.00000000e-01  9.00000000e-01  1.00000000e+00  1.10000000e+00\n",
            "  1.20000000e+00  1.30000000e+00  1.40000000e+00  1.50000000e+00\n",
            "  1.60000000e+00  1.70000000e+00  1.80000000e+00  1.90000000e+00]\n",
            "-2.0\n",
            "5.520948362159921e-87\n",
            "-1.9\n",
            "1.6246360367736544e-78\n",
            "-1.7999999999999998\n",
            "1.758749542595204e-70\n",
            "-1.6999999999999997\n",
            "7.004182134318979e-63\n",
            "-1.5999999999999996\n",
            "1.0261630727919909e-55\n",
            "-1.4999999999999996\n",
            "5.5307095498448885e-49\n",
            "-1.3999999999999995\n",
            "1.0966065593890804e-42\n",
            "-1.2999999999999994\n",
            "7.998827757007608e-37\n",
            "-1.1999999999999993\n",
            "2.146383735663274e-31\n",
            "-1.0999999999999992\n",
            "2.1188192535095644e-26\n",
            "-0.9999999999999991\n",
            "7.694598626707185e-22\n",
            "-0.899999999999999\n",
            "1.0279773571669865e-17\n",
            "-0.7999999999999989\n",
            "5.052271083537341e-14\n",
            "-0.6999999999999988\n",
            "9.134720408365372e-11\n",
            "-0.5999999999999988\n",
            "6.075882849823761e-08\n",
            "-0.49999999999999867\n",
            "1.4867195147344007e-05\n",
            "-0.3999999999999986\n",
            "0.001338302257648932\n",
            "-0.2999999999999985\n",
            "0.04431848411938212\n",
            "-0.1999999999999984\n",
            "0.539909665131898\n",
            "-0.09999999999999831\n",
            "2.419707245191475\n",
            "1.7763568394002505e-15\n",
            "3.989422804014327\n",
            "0.10000000000000187\n",
            "2.419707245191389\n",
            "0.20000000000000195\n",
            "0.5399096651318597\n",
            "0.30000000000000204\n",
            "0.044318484119377395\n",
            "0.40000000000000213\n",
            "0.0013383022576487417\n",
            "0.5000000000000022\n",
            "1.4867195147341368e-05\n",
            "0.6000000000000023\n",
            "6.075882849822465e-08\n",
            "0.7000000000000024\n",
            "9.134720408363101e-11\n",
            "0.8000000000000025\n",
            "5.052271083535923e-14\n",
            "0.9000000000000026\n",
            "1.0279773571666651e-17\n",
            "1.0000000000000027\n",
            "7.694598626704451e-22\n",
            "1.1000000000000028\n",
            "2.1188192535087514e-26\n",
            "1.2000000000000028\n",
            "2.146383735662359e-31\n",
            "1.300000000000003\n",
            "7.998827757003857e-37\n",
            "1.400000000000003\n",
            "1.096606559388535e-42\n",
            "1.500000000000003\n",
            "5.53070954984198e-49\n",
            "1.6000000000000032\n",
            "1.0261630727914077e-55\n",
            "1.7000000000000033\n",
            "7.0041821343148e-63\n",
            "1.8000000000000034\n",
            "1.758749542594104e-70\n",
            "1.9000000000000035\n",
            "1.624636036772592e-78\n"
          ],
          "name": "stdout"
        },
        {
          "output_type": "display_data",
          "data": {
            "image/png": "[encoded data removed]",
            "text/plain": [
              "<Figure size 432x288 with 1 Axes>"
            ]
          },
          "metadata": {
            "tags": [],
            "needs_background": "light"
          }
        }
      ]
    },
    {
      "cell_type": "code",
      "metadata": {
        "id": "9DcGRszjlG21"
      },
      "source": [
        "class PDF():\n",
        "    def __init__(self,mu=0, sigma=1):\n",
        "        self.mean = mu\n",
        "        self.stdev = sigma\n",
        "        self.data = []\n",
        "\n",
        "    def calculate_mean(self):\n",
        "        self.mean = sum(self.data) // len(self.data)\n",
        "        return self.mean\n",
        "\n",
        "    def calculate_stdev(self,sample=True):\n",
        "        if sample:\n",
        "            n = len(self.data)-1\n",
        "        else:\n",
        "            n = len(self.data)\n",
        "        mean = self.mean\n",
        "        sigma = 0\n",
        "        for el in self.data:\n",
        "            sigma += (el - mean)**2\n",
        "        sigma = math.sqrt(sigma / n)\n",
        "        self.stdev = sigma\n",
        "        return self.stdev\n",
        "\n",
        "    def pdf(self, x):\n",
        "        return (1.0 / (self.stdev * math.sqrt(2*math.pi))) * math.exp(-0.5*((x - self.mean) / self.stdev) ** 2)\n",
        "        plt.show()\n",
        "\n"
      ],
      "execution_count": 5,
      "outputs": []
    },
    {
      "cell_type": "markdown",
      "metadata": {
        "id": "CvyNEdWalS8L"
      },
      "source": [
        "In probability theory, a probability density function, or density of a continuous random variable, is a function whose value at any given sample in the sample space can be interpreted as providing a relative likelihood that the value of the random variable would equal that sample"
      ]
    }
  ]
}