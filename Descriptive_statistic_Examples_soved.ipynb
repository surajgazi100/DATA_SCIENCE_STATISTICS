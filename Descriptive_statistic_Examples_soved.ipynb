{
  "nbformat": 4,
  "nbformat_minor": 0,
  "metadata": {
    "colab": {
      "name": "Untitled18.ipynb",
      "provenance": [],
      "authorship_tag": "ABX9TyO3PvQRkxnU6OgLtOhOI5Ww",
      "include_colab_link": true
    },
    "kernelspec": {
      "name": "python3",
      "display_name": "Python 3"
    }
  },
  "cells": [
    {
      "cell_type": "markdown",
      "metadata": {
        "id": "view-in-github",
        "colab_type": "text"
      },
      "source": [
        "<a href=\"https://colab.research.google.com/github/surajgazi100/DATA_SCIENCE_STATISTICS/blob/main/Descriptive_statistic_Examples_soved.ipynb\" target=\"_parent\"><img src=\"https://colab.research.google.com/assets/colab-badge.svg\" alt=\"Open In Colab\"/></a>"
      ]
    },
    {
      "cell_type": "code",
      "metadata": {
        "id": "0IUrn1WA8u1s",
        "outputId": "821f9c3f-8a4f-404c-aefc-7b9f4de051f5",
        "colab": {
          "base_uri": "https://localhost:8080/",
          "height": 235
        }
      },
      "source": [
        "\n",
        "import pandas as pd\n",
        "import numpy as np\n",
        "\n",
        "#Create a Dictionary of series\n",
        "d = {'Name':pd.Series(['Tom','James','Ricky','Vin','Steve','Smith','Jack',\n",
        "   'Lee','David','Gasper','Betina','Andres']),\n",
        "   'Age':pd.Series([25,26,25,23,30,29,23,34,40,30,51,46]),\n",
        "   'Rating':pd.Series([4.23,3.24,3.98,2.56,3.20,4.6,3.8,3.78,2.98,4.80,4.10,3.65])\n",
        "}\n",
        "\n",
        "#Create a DataFrame\n",
        "df = pd.DataFrame(d)\n",
        "print (df)"
      ],
      "execution_count": 3,
      "outputs": [
        {
          "output_type": "stream",
          "text": [
            "      Name  Age  Rating\n",
            "0      Tom   25    4.23\n",
            "1    James   26    3.24\n",
            "2    Ricky   25    3.98\n",
            "3      Vin   23    2.56\n",
            "4    Steve   30    3.20\n",
            "5    Smith   29    4.60\n",
            "6     Jack   23    3.80\n",
            "7      Lee   34    3.78\n",
            "8    David   40    2.98\n",
            "9   Gasper   30    4.80\n",
            "10  Betina   51    4.10\n",
            "11  Andres   46    3.65\n"
          ],
          "name": "stdout"
        }
      ]
    },
    {
      "cell_type": "markdown",
      "metadata": {
        "id": "U-Cc_2va90Dq"
      },
      "source": [
        "Sum()"
      ]
    },
    {
      "cell_type": "code",
      "metadata": {
        "id": "NIJAEsZv8-Zb",
        "outputId": "79d1d79a-4282-4f79-d802-4a8377dfee24",
        "colab": {
          "base_uri": "https://localhost:8080/",
          "height": 84
        }
      },
      "source": [
        "import pandas as pd \n",
        "import numpy as np\n",
        "\n",
        "#create a dictionary of series \n",
        "d = {'Name':pd.Series(['Tom','James','Ricky','Vin','Steve','Smith','Jack',\n",
        "   'Lee','David','Gasper','Betina','Andres']),\n",
        "   'Age':pd.Series([25,26,25,23,30,29,23,34,40,30,51,46]),\n",
        "   'Rating':pd.Series([4.23,3.24,3.98,2.56,3.20,4.6,3.8,3.78,2.98,4.80,4.10,3.65])\n",
        "}\n",
        "\n",
        "#Create a DataFrame\n",
        "df = pd.DataFrame(d)\n",
        "print (df.sum())\n"
      ],
      "execution_count": 5,
      "outputs": [
        {
          "output_type": "stream",
          "text": [
            "Name      TomJamesRickyVinSteveSmithJackLeeDavidGasperBe...\n",
            "Age                                                     382\n",
            "Rating                                                44.92\n",
            "dtype: object\n"
          ],
          "name": "stdout"
        }
      ]
    },
    {
      "cell_type": "markdown",
      "metadata": {
        "id": "O5bPUmdm9xyp"
      },
      "source": [
        "Mean()"
      ]
    },
    {
      "cell_type": "code",
      "metadata": {
        "id": "oxr1K3wd9q1Z",
        "outputId": "4343a40a-64e6-4304-d4bc-8525ce0822e5",
        "colab": {
          "base_uri": "https://localhost:8080/",
          "height": 67
        }
      },
      "source": [
        "\n",
        "import pandas as pd\n",
        "import numpy as np\n",
        "\n",
        "#Create a Dictionary of series\n",
        "d = {'Name':pd.Series(['Tom','James','Ricky','Vin','Steve','Smith','Jack',\n",
        "   'Lee','David','Gasper','Betina','Andres']),\n",
        "   'Age':pd.Series([25,26,25,23,30,29,23,34,40,30,51,46]),\n",
        "   'Rating':pd.Series([4.23,3.24,3.98,2.56,3.20,4.6,3.8,3.78,2.98,4.80,4.10,3.65])\n",
        "}\n",
        "\n",
        "#Create a DataFrame\n",
        "df = pd.DataFrame(d)\n",
        "print (df.mean())"
      ],
      "execution_count": 7,
      "outputs": [
        {
          "output_type": "stream",
          "text": [
            "Age       31.833333\n",
            "Rating     3.743333\n",
            "dtype: float64\n"
          ],
          "name": "stdout"
        }
      ]
    },
    {
      "cell_type": "markdown",
      "metadata": {
        "id": "IybGDzIe9_XR"
      },
      "source": [
        "# std()"
      ]
    },
    {
      "cell_type": "code",
      "metadata": {
        "id": "EWTWivRE97-r",
        "outputId": "8d8a2563-8631-4510-d79f-9939bc492170",
        "colab": {
          "base_uri": "https://localhost:8080/",
          "height": 67
        }
      },
      "source": [
        "\n",
        "import pandas as pd\n",
        "import numpy as np\n",
        "\n",
        "#Create a Dictionary of series\n",
        "d = {'Name':pd.Series(['Tom','James','Ricky','Vin','Steve','Smith','Jack',\n",
        "   'Lee','David','Gasper','Betina','Andres']),\n",
        "   'Age':pd.Series([25,26,25,23,30,29,23,34,40,30,51,46]),\n",
        "   'Rating':pd.Series([4.23,3.24,3.98,2.56,3.20,4.6,3.8,3.78,2.98,4.80,4.10,3.65])\n",
        "}\n",
        "\n",
        "#Create a DataFrame\n",
        "df = pd.DataFrame(d)\n",
        "print (df.std())"
      ],
      "execution_count": 8,
      "outputs": [
        {
          "output_type": "stream",
          "text": [
            "Age       9.232682\n",
            "Rating    0.661628\n",
            "dtype: float64\n"
          ],
          "name": "stdout"
        }
      ]
    },
    {
      "cell_type": "markdown",
      "metadata": {
        "id": "wNMhGl4_-Vo_"
      },
      "source": [
        "# Describe()"
      ]
    },
    {
      "cell_type": "code",
      "metadata": {
        "id": "0AfcPGWM-KB3",
        "outputId": "6a507333-170d-49d7-8e3f-409ab7d6a9ba",
        "colab": {
          "base_uri": "https://localhost:8080/",
          "height": 168
        }
      },
      "source": [
        "\n",
        "import pandas as pd\n",
        "import numpy as np\n",
        "\n",
        "#Create a Dictionary of series\n",
        "d = {'Name':pd.Series(['Tom','James','Ricky','Vin','Steve','Smith','Jack',\n",
        "   'Lee','David','Gasper','Betina','Andres']),\n",
        "   'Age':pd.Series([25,26,25,23,30,29,23,34,40,30,51,46]),\n",
        "   'Rating':pd.Series([4.23,3.24,3.98,2.56,3.20,4.6,3.8,3.78,2.98,4.80,4.10,3.65])\n",
        "}\n",
        "\n",
        "#Create a DataFrame\n",
        "df = pd.DataFrame(d)\n",
        "print (df.describe())"
      ],
      "execution_count": 9,
      "outputs": [
        {
          "output_type": "stream",
          "text": [
            "             Age     Rating\n",
            "count  12.000000  12.000000\n",
            "mean   31.833333   3.743333\n",
            "std     9.232682   0.661628\n",
            "min    23.000000   2.560000\n",
            "25%    25.000000   3.230000\n",
            "50%    29.500000   3.790000\n",
            "75%    35.500000   4.132500\n",
            "max    51.000000   4.800000\n"
          ],
          "name": "stdout"
        }
      ]
    },
    {
      "cell_type": "markdown",
      "metadata": {
        "id": "JR8PkTRC-d3U"
      },
      "source": [
        "This function gives the mean, std and IQR values. And, function excludes the character columns and given summary about numeric columns. 'include' is the argument which is used to pass necessary information regarding what columns need to be considered for summarizing. Takes the list of values; by default, 'number'.\n",
        "\n",
        "\n",
        "\n",
        "object − Summarizes String columns\n",
        "\n",
        "number − Summarizes Numeric columns\n",
        "\n",
        "all − Summarizes all columns together (Should not pass it as a list value)\n"
      ]
    },
    {
      "cell_type": "code",
      "metadata": {
        "id": "vhWs57SG-mDx",
        "outputId": "3f829ed2-e8f8-454f-daa3-aaa10a97b3d6",
        "colab": {
          "base_uri": "https://localhost:8080/",
          "height": 101
        }
      },
      "source": [
        "\n",
        "import pandas as pd\n",
        "import numpy as np\n",
        "\n",
        "#Create a Dictionary of series\n",
        "d = {'Name':pd.Series(['Tom','James','Ricky','Vin','Steve','Smith','Jack',\n",
        "   'Lee','David','Gasper','Betina','Andres']),\n",
        "   'Age':pd.Series([25,26,25,23,30,29,23,34,40,30,51,46]),\n",
        "   'Rating':pd.Series([4.23,3.24,3.98,2.56,3.20,4.6,3.8,3.78,2.98,4.80,4.10,3.65])\n",
        "}\n",
        "\n",
        "#Create a DataFrame\n",
        "df = pd.DataFrame(d)\n",
        "print (df.describe(include=['object']))"
      ],
      "execution_count": 10,
      "outputs": [
        {
          "output_type": "stream",
          "text": [
            "         Name\n",
            "count      12\n",
            "unique     12\n",
            "top     Smith\n",
            "freq        1\n"
          ],
          "name": "stdout"
        }
      ]
    },
    {
      "cell_type": "markdown",
      "metadata": {
        "id": "Vh-mWdQQ-2vp"
      },
      "source": [
        "![image.png](data:image/png;base64,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)"
      ]
    },
    {
      "cell_type": "markdown",
      "metadata": {
        "id": "M-GwzrLz-4N_"
      },
      "source": [
        "# **Thank you**"
      ]
    }
  ]
}