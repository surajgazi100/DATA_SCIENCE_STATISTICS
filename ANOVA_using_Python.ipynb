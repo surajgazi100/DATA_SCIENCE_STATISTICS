{
  "nbformat": 4,
  "nbformat_minor": 0,
  "metadata": {
    "colab": {
      "name": "ANOVA using Python.ipynb",
      "provenance": [],
      "authorship_tag": "ABX9TyMeu2LZQFtKoGogGIb0n1WP",
      "include_colab_link": true
    },
    "kernelspec": {
      "name": "python3",
      "display_name": "Python 3"
    }
  },
  "cells": [
    {
      "cell_type": "markdown",
      "metadata": {
        "id": "view-in-github",
        "colab_type": "text"
      },
      "source": [
        "<a href=\"https://colab.research.google.com/github/surajgazi100/DATA_SCIENCE_STATISTICS/blob/main/ANOVA_using_Python.ipynb\" target=\"_parent\"><img src=\"https://colab.research.google.com/assets/colab-badge.svg\" alt=\"Open In Colab\"/></a>"
      ]
    },
    {
      "cell_type": "markdown",
      "metadata": {
        "id": "lTZU2DuMfTz_"
      },
      "source": [
        "# ANOVA using Python\n",
        "\n",
        " Renesh Bedre    October 22, 2018      8 minute read\n",
        "What is ANOVA (ANalysis Of VAriance)?\n",
        "\n",
        "used to compare the means of more than 2 groups (t-test can be used to compare 2 groups)\n",
        "groups mean differences inferred by analyzing variances\n",
        "Main types: One-way (one factor) and two-way (two factors) ANOVA (factor is an independent variable)\n",
        "Note: In ANOVA, group, factors, and independent variables are similar terms\n",
        "\n",
        "ANOVA Hypotheses\n",
        "\n",
        "Null hypotheses: Groups means are equal (no variation in means of groups)\n",
        "Alternative hypotheses: At least, one group mean is different from other groups\n",
        "ANOVA Assumptions\n",
        "\n",
        "Residuals (experimental error) are normally distributed (Shapiro-Wilks Test)\n",
        "Homogeneity of variances (variances are equal between treatment groups) (Levene or Bartlett Test)\n",
        "Observations are sampled independently from each other\n",
        "\n",
        "How ANOVA works?\n",
        "\n",
        "Check sample sizes: equal number of observation in each group\n",
        "Calculate Mean Square for each group (MS) (SS of group/level-1); level-1 is a degree of freedom (df) for a group\n",
        "Calculate Mean Square error (MSE) (SS error/df of residuals)\n",
        "Calculate F-value (MS of group/MSE)\n",
        "One-way (one factor) ANOVA with Python\n",
        "\n",
        "Example data for one-way ANOVA analysis tutorial, dataset"
      ]
    },
    {
      "cell_type": "markdown",
      "metadata": {
        "id": "rWG6tUgJfxDy"
      },
      "source": [
        "![image.png](data:image/png;base64,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)"
      ]
    },
    {
      "cell_type": "code",
      "metadata": {
        "id": "OoB7ovcFfyG2",
        "outputId": "e4eb38f2-e3b0-42e6-cf16-d797a61e296c",
        "colab": {
          "base_uri": "https://localhost:8080/",
          "height": 282
        }
      },
      "source": [
        "# I am using Python 3\n",
        "# load packages\n",
        "import pandas as pd\n",
        "# load data file\n",
        "d = pd.read_csv(\"https://reneshbedre.github.io/assets/posts/anova/onewayanova.txt\", sep=\"\\t\")\n",
        "# generate a boxplot to see the data distribution by treatments. Using boxplot, we can easily detect the differences \n",
        "# between different treatments\n",
        "d.boxplot(column=['A', 'B', 'C', 'D'], grid=False)"
      ],
      "execution_count": 1,
      "outputs": [
        {
          "output_type": "execute_result",
          "data": {
            "text/plain": [
              "<matplotlib.axes._subplots.AxesSubplot at 0x7f92f1b62ba8>"
            ]
          },
          "metadata": {
            "tags": []
          },
          "execution_count": 1
        },
        {
          "output_type": "display_data",
          "data": {
            "image/png": "[encoded data removed]",
            "text/plain": [
              "<Figure size 432x288 with 1 Axes>"
            ]
          },
          "metadata": {
            "tags": [],
            "needs_background": "light"
          }
        }
      ]
    },
    {
      "cell_type": "code",
      "metadata": {
        "id": "34GCutiafSxX",
        "outputId": "52b3a204-ae76-4727-d7cd-75afd29b10d7",
        "colab": {
          "base_uri": "https://localhost:8080/",
          "height": 123
        }
      },
      "source": [
        "# load packages\n",
        "import scipy.stats as stats\n",
        "# stats f_oneway functions takes the groups as input and returns F and P-value\n",
        "fvalue, pvalue = stats.f_oneway(d['A'], d['B'], d['C'], d['D'])\n",
        "print(fvalue, pvalue)\n",
        "# 17.492810457516338 2.639241146210922e-05\n",
        "\n",
        "# get ANOVA table as R like output\n",
        "import statsmodels.api as sm\n",
        "from statsmodels.formula.api import ols\n",
        "# reshape the d dataframe suitable for statsmodels package \n",
        "d_melt = pd.melt(d.reset_index(), id_vars=['index'], value_vars=['A', 'B', 'C', 'D'])\n",
        "# replace column names\n",
        "d_melt.columns = ['index', 'treatments', 'value']\n",
        "# Ordinary Least Squares (OLS) model\n",
        "model = ols('value ~ C(treatments)', data=d_melt).fit()\n",
        "anova_table = sm.stats.anova_lm(model, typ=2)\n",
        "anova_table\n",
        "# output\n",
        "\n",
        "\n",
        "# note: if the data is balanced (equal sample size for each group), Type 1, 2, and 3 sums of squares\n",
        "# (typ parameter) will produce similar results."
      ],
      "execution_count": 3,
      "outputs": [
        {
          "output_type": "stream",
          "text": [
            "17.492810457516338 2.639241146210922e-05\n"
          ],
          "name": "stdout"
        },
        {
          "output_type": "execute_result",
          "data": {
            "text/html": [
              "<div>\n",
              "<style scoped>\n",
              "    .dataframe tbody tr th:only-of-type {\n",
              "        vertical-align: middle;\n",
              "    }\n",
              "\n",
              "    .dataframe tbody tr th {\n",
              "        vertical-align: top;\n",
              "    }\n",
              "\n",
              "    .dataframe thead th {\n",
              "        text-align: right;\n",
              "    }\n",
              "</style>\n",
              "<table border=\"1\" class=\"dataframe\">\n",
              "  <thead>\n",
              "    <tr style=\"text-align: right;\">\n",
              "      <th></th>\n",
              "      <th>sum_sq</th>\n",
              "      <th>df</th>\n",
              "      <th>F</th>\n",
              "      <th>PR(&gt;F)</th>\n",
              "    </tr>\n",
              "  </thead>\n",
              "  <tbody>\n",
              "    <tr>\n",
              "      <th>C(treatments)</th>\n",
              "      <td>3010.95</td>\n",
              "      <td>3.0</td>\n",
              "      <td>17.49281</td>\n",
              "      <td>0.000026</td>\n",
              "    </tr>\n",
              "    <tr>\n",
              "      <th>Residual</th>\n",
              "      <td>918.00</td>\n",
              "      <td>16.0</td>\n",
              "      <td>NaN</td>\n",
              "      <td>NaN</td>\n",
              "    </tr>\n",
              "  </tbody>\n",
              "</table>\n",
              "</div>"
            ],
            "text/plain": [
              "                sum_sq    df         F    PR(>F)\n",
              "C(treatments)  3010.95   3.0  17.49281  0.000026\n",
              "Residual        918.00  16.0       NaN       NaN"
            ]
          },
          "metadata": {
            "tags": []
          },
          "execution_count": 3
        }
      ]
    },
    {
      "cell_type": "markdown",
      "metadata": {
        "id": "DQlFmG9phpZY"
      },
      "source": [
        "Interpretation: The P-value obtained from ANOVA analysis is significant (P<0.05), and therefore, we conclude that there are significant differences among treatments.\n",
        "\n",
        "Note: If you have unbalanced (unequal sample size for each group) data, you can perform similar steps as described for one-way ANOVA with balanced design (equal sample size for each group).\n",
        "\n",
        "From ANOVA analysis, we know that treatment differences are statistically significant, but ANOVA does not tell which treatments are significantly different from each other. To know the pairs of significant different treatments, we will perform multiple pairwise comparison (Post-hoc comparison) analysis using Tukey HSD test."
      ]
    },
    {
      "cell_type": "code",
      "metadata": {
        "id": "RfKlFvHuh06s",
        "outputId": "8ee15eef-47d8-4b5d-b07a-bd0f44f912b9",
        "colab": {
          "base_uri": "https://localhost:8080/",
          "height": 608
        }
      },
      "source": [
        "pip install bioinfokit"
      ],
      "execution_count": 5,
      "outputs": [
        {
          "output_type": "stream",
          "text": [
            "Collecting bioinfokit\n",
            "\u001b[?25l  Downloading https://files.pythonhosted.org/packages/73/91/2900e8ebb76f0f57c343805cf83d87ab5bfce5939dd67c98ed5c36f7b2f5/bioinfokit-1.0.1.tar.gz (70kB)\n",
            "\r\u001b[K     |████▋                           | 10kB 12.3MB/s eta 0:00:01\r\u001b[K     |█████████▎                      | 20kB 1.7MB/s eta 0:00:01\r\u001b[K     |█████████████▉                  | 30kB 2.2MB/s eta 0:00:01\r\u001b[K     |██████████████████▌             | 40kB 2.5MB/s eta 0:00:01\r\u001b[K     |███████████████████████▏        | 51kB 2.0MB/s eta 0:00:01\r\u001b[K     |███████████████████████████▊    | 61kB 2.2MB/s eta 0:00:01\r\u001b[K     |████████████████████████████████| 71kB 2.0MB/s \n",
            "\u001b[?25hRequirement already satisfied: pandas in /usr/local/lib/python3.6/dist-packages (from bioinfokit) (1.1.2)\n",
            "Requirement already satisfied: numpy in /usr/local/lib/python3.6/dist-packages (from bioinfokit) (1.18.5)\n",
            "Requirement already satisfied: matplotlib in /usr/local/lib/python3.6/dist-packages (from bioinfokit) (3.2.2)\n",
            "Requirement already satisfied: scipy in /usr/local/lib/python3.6/dist-packages (from bioinfokit) (1.4.1)\n",
            "Requirement already satisfied: scikit-learn in /usr/local/lib/python3.6/dist-packages (from bioinfokit) (0.22.2.post1)\n",
            "Requirement already satisfied: seaborn in /usr/local/lib/python3.6/dist-packages (from bioinfokit) (0.11.0)\n",
            "Requirement already satisfied: matplotlib_venn in /usr/local/lib/python3.6/dist-packages (from bioinfokit) (0.11.5)\n",
            "Requirement already satisfied: tabulate in /usr/local/lib/python3.6/dist-packages (from bioinfokit) (0.8.7)\n",
            "Requirement already satisfied: statsmodels in /usr/local/lib/python3.6/dist-packages (from bioinfokit) (0.10.2)\n",
            "Collecting textwrap3\n",
            "  Downloading https://files.pythonhosted.org/packages/77/9c/a53e561d496ee5866bbeea4d3a850b3b545ed854f8a21007c1e0d872e94d/textwrap3-0.9.2-py2.py3-none-any.whl\n",
            "Collecting adjustText\n",
            "  Downloading https://files.pythonhosted.org/packages/9e/15/4157718bf323fd5f5b81c891c660d0f388e042d2689a558bf1389632dc44/adjustText-0.7.3.tar.gz\n",
            "Requirement already satisfied: pytz>=2017.2 in /usr/local/lib/python3.6/dist-packages (from pandas->bioinfokit) (2018.9)\n",
            "Requirement already satisfied: python-dateutil>=2.7.3 in /usr/local/lib/python3.6/dist-packages (from pandas->bioinfokit) (2.8.1)\n",
            "Requirement already satisfied: pyparsing!=2.0.4,!=2.1.2,!=2.1.6,>=2.0.1 in /usr/local/lib/python3.6/dist-packages (from matplotlib->bioinfokit) (2.4.7)\n",
            "Requirement already satisfied: cycler>=0.10 in /usr/local/lib/python3.6/dist-packages (from matplotlib->bioinfokit) (0.10.0)\n",
            "Requirement already satisfied: kiwisolver>=1.0.1 in /usr/local/lib/python3.6/dist-packages (from matplotlib->bioinfokit) (1.2.0)\n",
            "Requirement already satisfied: joblib>=0.11 in /usr/local/lib/python3.6/dist-packages (from scikit-learn->bioinfokit) (0.16.0)\n",
            "Requirement already satisfied: patsy>=0.4.0 in /usr/local/lib/python3.6/dist-packages (from statsmodels->bioinfokit) (0.5.1)\n",
            "Requirement already satisfied: six>=1.5 in /usr/local/lib/python3.6/dist-packages (from python-dateutil>=2.7.3->pandas->bioinfokit) (1.15.0)\n",
            "Building wheels for collected packages: bioinfokit, adjustText\n",
            "  Building wheel for bioinfokit (setup.py) ... \u001b[?25l\u001b[?25hdone\n",
            "  Created wheel for bioinfokit: filename=bioinfokit-1.0.1-cp36-none-any.whl size=51297 sha256=32d3ad8a604fb12396f8b8354fe62a65035fdd34658d8eaf29d116e8e540e5b2\n",
            "  Stored in directory: /root/.cache/pip/wheels/55/2f/fd/dfef99461de15e2011e8f3c65ceaaf28afacc72920076f433a\n",
            "  Building wheel for adjustText (setup.py) ... \u001b[?25l\u001b[?25hdone\n",
            "  Created wheel for adjustText: filename=adjustText-0.7.3-cp36-none-any.whl size=7099 sha256=fd118f3d59c6a96aa0988959084280ada189e7cecebcb0059e8ac5b9f47bf6d2\n",
            "  Stored in directory: /root/.cache/pip/wheels/41/95/74/7d347e136d672f8bc28e937032bc92baf4f80856763a7e7b72\n",
            "Successfully built bioinfokit adjustText\n",
            "Installing collected packages: textwrap3, adjustText, bioinfokit\n",
            "Successfully installed adjustText-0.7.3 bioinfokit-1.0.1 textwrap3-0.9.2\n"
          ],
          "name": "stdout"
        }
      ]
    },
    {
      "cell_type": "code",
      "metadata": {
        "id": "jNc-5ZBbhq8i",
        "outputId": "bdf91104-6e58-4748-f067-814cc28217e8",
        "colab": {
          "base_uri": "https://localhost:8080/",
          "height": 225
        }
      },
      "source": [
        "# we will use bioinfokit (v1.0.1 or later) for performing tukey HSD test\n",
        "# check documentation here https://reneshbedre.github.io/blog/howtoinstall.html\n",
        "from bioinfokit.analys import stat\n",
        "# perform multiple pairwise comparison (Tukey HSD)\n",
        "# unequal sample size data, tukey_hsd uses Tukey-Kramer test\n",
        "res = stat()\n",
        "res.tukey_hsd(df=d_melt, res_var='value', xfac_var='treatments', anova_model='value ~ C(treatments)')\n",
        "res.tukey_summary"
      ],
      "execution_count": 6,
      "outputs": [
        {
          "output_type": "execute_result",
          "data": {
            "text/html": [
              "<div>\n",
              "<style scoped>\n",
              "    .dataframe tbody tr th:only-of-type {\n",
              "        vertical-align: middle;\n",
              "    }\n",
              "\n",
              "    .dataframe tbody tr th {\n",
              "        vertical-align: top;\n",
              "    }\n",
              "\n",
              "    .dataframe thead th {\n",
              "        text-align: right;\n",
              "    }\n",
              "</style>\n",
              "<table border=\"1\" class=\"dataframe\">\n",
              "  <thead>\n",
              "    <tr style=\"text-align: right;\">\n",
              "      <th></th>\n",
              "      <th>group1</th>\n",
              "      <th>group2</th>\n",
              "      <th>Diff</th>\n",
              "      <th>Lower</th>\n",
              "      <th>Upper</th>\n",
              "      <th>q-value</th>\n",
              "      <th>p-value</th>\n",
              "    </tr>\n",
              "  </thead>\n",
              "  <tbody>\n",
              "    <tr>\n",
              "      <th>0</th>\n",
              "      <td>A</td>\n",
              "      <td>B</td>\n",
              "      <td>15.4</td>\n",
              "      <td>1.692871</td>\n",
              "      <td>29.107129</td>\n",
              "      <td>4.546156</td>\n",
              "      <td>0.025070</td>\n",
              "    </tr>\n",
              "    <tr>\n",
              "      <th>1</th>\n",
              "      <td>A</td>\n",
              "      <td>C</td>\n",
              "      <td>1.6</td>\n",
              "      <td>-12.107129</td>\n",
              "      <td>15.307129</td>\n",
              "      <td>0.472328</td>\n",
              "      <td>0.900000</td>\n",
              "    </tr>\n",
              "    <tr>\n",
              "      <th>2</th>\n",
              "      <td>A</td>\n",
              "      <td>D</td>\n",
              "      <td>30.4</td>\n",
              "      <td>16.692871</td>\n",
              "      <td>44.107129</td>\n",
              "      <td>8.974231</td>\n",
              "      <td>0.001000</td>\n",
              "    </tr>\n",
              "    <tr>\n",
              "      <th>3</th>\n",
              "      <td>B</td>\n",
              "      <td>C</td>\n",
              "      <td>13.8</td>\n",
              "      <td>0.092871</td>\n",
              "      <td>27.507129</td>\n",
              "      <td>4.073828</td>\n",
              "      <td>0.048178</td>\n",
              "    </tr>\n",
              "    <tr>\n",
              "      <th>4</th>\n",
              "      <td>B</td>\n",
              "      <td>D</td>\n",
              "      <td>15.0</td>\n",
              "      <td>1.292871</td>\n",
              "      <td>28.707129</td>\n",
              "      <td>4.428074</td>\n",
              "      <td>0.029578</td>\n",
              "    </tr>\n",
              "    <tr>\n",
              "      <th>5</th>\n",
              "      <td>C</td>\n",
              "      <td>D</td>\n",
              "      <td>28.8</td>\n",
              "      <td>15.092871</td>\n",
              "      <td>42.507129</td>\n",
              "      <td>8.501903</td>\n",
              "      <td>0.001000</td>\n",
              "    </tr>\n",
              "  </tbody>\n",
              "</table>\n",
              "</div>"
            ],
            "text/plain": [
              "  group1 group2  Diff      Lower      Upper   q-value   p-value\n",
              "0      A      B  15.4   1.692871  29.107129  4.546156  0.025070\n",
              "1      A      C   1.6 -12.107129  15.307129  0.472328  0.900000\n",
              "2      A      D  30.4  16.692871  44.107129  8.974231  0.001000\n",
              "3      B      C  13.8   0.092871  27.507129  4.073828  0.048178\n",
              "4      B      D  15.0   1.292871  28.707129  4.428074  0.029578\n",
              "5      C      D  28.8  15.092871  42.507129  8.501903  0.001000"
            ]
          },
          "metadata": {
            "tags": []
          },
          "execution_count": 6
        }
      ]
    },
    {
      "cell_type": "markdown",
      "metadata": {
        "id": "FqPrXBXPiA-b"
      },
      "source": [
        "Above results from Tukey HSD suggests that except A-C, all other pairwise comparisons for treatments rejects null hypothesis (P-tukey<0.05) and indicates statistical significant differences.\n",
        "\n",
        "Test ANOVA assumptions\n",
        "\n",
        "The Shapiro-Wilk test can be used to check the normal distribution of residuals . Null hypothesis: data is drawn from normal distribution."
      ]
    },
    {
      "cell_type": "code",
      "metadata": {
        "id": "WLHTuNXRiHEK",
        "outputId": "82a9b5a4-afaa-4e02-edc3-fa076adf7661",
        "colab": {
          "base_uri": "https://localhost:8080/",
          "height": 34
        }
      },
      "source": [
        "import scipy.stats as stats\n",
        "w, pvalue = stats.shapiro(model.resid)\n",
        "print(w, pvalue)"
      ],
      "execution_count": 7,
      "outputs": [
        {
          "output_type": "stream",
          "text": [
            "0.9685019850730896 0.7229772806167603\n"
          ],
          "name": "stdout"
        }
      ]
    },
    {
      "cell_type": "markdown",
      "metadata": {
        "id": "3NcjRfWXialt"
      },
      "source": [
        "As the P-value is non significant, we fail to reject null hypothesis and conclude that data is drawn from normal distribution.\n",
        "\n",
        "As the data is drawn from normal distribution, use Bartlett’s test to check the Homogeneity of variances. Null hypothesis: samples from populations have equal variances."
      ]
    },
    {
      "cell_type": "code",
      "metadata": {
        "id": "_eMXuTKjicCH",
        "outputId": "62ab29eb-d523-4ccd-fb93-790431289ede",
        "colab": {
          "base_uri": "https://localhost:8080/",
          "height": 34
        }
      },
      "source": [
        "# load packages\n",
        "import scipy.stats as stats\n",
        "w, pvalue = stats.bartlett(d['A'], d['B'], d['C'], d['D'])\n",
        "print(w, pvalue)"
      ],
      "execution_count": 8,
      "outputs": [
        {
          "output_type": "stream",
          "text": [
            "5.687843565012841 0.1278253399753447\n"
          ],
          "name": "stdout"
        }
      ]
    },
    {
      "cell_type": "markdown",
      "metadata": {
        "id": "5RleAVZAil8Y"
      },
      "source": [
        "As the P-value (0.12) is non significant, we fail to reject null hypothesis and conclude that treatments have equal variances.\n",
        "\n",
        "Levene test can be used to check the Homogeneity of variances when the data is not drawn from normal distribution.\n",
        "\n",
        "Two-way (two factor) ANOVA with Python\n",
        "\n",
        "Example data for two-way ANOVA analysis tutorial, dataset\n",
        "\n",
        "From dataset, there are two factors (independent variables) viz. genotypes and yield in years. Genotypes and years has five and three levels respectively (see one-way ANOVA to know factors and levels).\n",
        "\n",
        "For this experimental design, there are two factors to evaluate, and therefore, two-way ANOVA method is suitable for analysis. Here, using two-way ANOVA, we can simultaneously evaluate how type of genotype and years affects the yields of plants. If you apply one-way ANOVA here, you can able to evaluate only one factor at a time.\n",
        "\n",
        "From two-way ANOVA, we can tests three hypotheses 1) effect of genotype on yield 2) effect of time (years) on yield, and 3) effect of genotype and time (years) interactions on yield"
      ]
    },
    {
      "cell_type": "code",
      "metadata": {
        "id": "bCrNgkUtisc8",
        "outputId": "f68e5e20-a60b-4bf6-d181-e139dec90fb5",
        "colab": {
          "base_uri": "https://localhost:8080/",
          "height": 195
        }
      },
      "source": [
        "# load packages\n",
        "import pandas as pd\n",
        "import seaborn as sns\n",
        "# load data file\n",
        "d = pd.read_csv(\"https://reneshbedre.github.io/assets/posts/anova/twowayanova.txt\", sep=\"\\t\")\n",
        "# reshape the d dataframe suitable for statsmodels package \n",
        "# you do not need to reshape if your data is already in stacked format. Compare d and d_melt tables for detail \n",
        "# understanding \n",
        "d_melt = pd.melt(d, id_vars=['Genotype'], value_vars=['1_year', '2_year', '3_year'])\n",
        "# replace column names\n",
        "d_melt.columns = ['Genotype', 'years', 'value']\n",
        "d_melt.head()"
      ],
      "execution_count": 9,
      "outputs": [
        {
          "output_type": "execute_result",
          "data": {
            "text/html": [
              "<div>\n",
              "<style scoped>\n",
              "    .dataframe tbody tr th:only-of-type {\n",
              "        vertical-align: middle;\n",
              "    }\n",
              "\n",
              "    .dataframe tbody tr th {\n",
              "        vertical-align: top;\n",
              "    }\n",
              "\n",
              "    .dataframe thead th {\n",
              "        text-align: right;\n",
              "    }\n",
              "</style>\n",
              "<table border=\"1\" class=\"dataframe\">\n",
              "  <thead>\n",
              "    <tr style=\"text-align: right;\">\n",
              "      <th></th>\n",
              "      <th>Genotype</th>\n",
              "      <th>years</th>\n",
              "      <th>value</th>\n",
              "    </tr>\n",
              "  </thead>\n",
              "  <tbody>\n",
              "    <tr>\n",
              "      <th>0</th>\n",
              "      <td>A</td>\n",
              "      <td>1_year</td>\n",
              "      <td>1.53</td>\n",
              "    </tr>\n",
              "    <tr>\n",
              "      <th>1</th>\n",
              "      <td>A</td>\n",
              "      <td>1_year</td>\n",
              "      <td>1.83</td>\n",
              "    </tr>\n",
              "    <tr>\n",
              "      <th>2</th>\n",
              "      <td>A</td>\n",
              "      <td>1_year</td>\n",
              "      <td>1.38</td>\n",
              "    </tr>\n",
              "    <tr>\n",
              "      <th>3</th>\n",
              "      <td>B</td>\n",
              "      <td>1_year</td>\n",
              "      <td>3.60</td>\n",
              "    </tr>\n",
              "    <tr>\n",
              "      <th>4</th>\n",
              "      <td>B</td>\n",
              "      <td>1_year</td>\n",
              "      <td>2.94</td>\n",
              "    </tr>\n",
              "  </tbody>\n",
              "</table>\n",
              "</div>"
            ],
            "text/plain": [
              "  Genotype   years  value\n",
              "0        A  1_year   1.53\n",
              "1        A  1_year   1.83\n",
              "2        A  1_year   1.38\n",
              "3        B  1_year   3.60\n",
              "4        B  1_year   2.94"
            ]
          },
          "metadata": {
            "tags": []
          },
          "execution_count": 9
        }
      ]
    },
    {
      "cell_type": "code",
      "metadata": {
        "id": "FBPBL1yDizkY",
        "outputId": "6b380cda-db3e-43da-e7c1-425a06a4a611",
        "colab": {
          "base_uri": "https://localhost:8080/",
          "height": 296
        }
      },
      "source": [
        "sns.boxplot(x=\"Genotype\", y=\"value\", hue=\"years\", data=d_melt, palette=\"Set3\") "
      ],
      "execution_count": 10,
      "outputs": [
        {
          "output_type": "execute_result",
          "data": {
            "text/plain": [
              "<matplotlib.axes._subplots.AxesSubplot at 0x7f92cec8f668>"
            ]
          },
          "metadata": {
            "tags": []
          },
          "execution_count": 10
        },
        {
          "output_type": "display_data",
          "data": {
            "image/png": "[encoded data removed]",
            "text/plain": [
              "<Figure size 432x288 with 1 Axes>"
            ]
          },
          "metadata": {
            "tags": [],
            "needs_background": "light"
          }
        }
      ]
    },
    {
      "cell_type": "code",
      "metadata": {
        "id": "uEHTRwTci6fT",
        "outputId": "a8b9df03-7181-40ce-cf6e-274123256793",
        "colab": {
          "base_uri": "https://localhost:8080/",
          "height": 166
        }
      },
      "source": [
        "import statsmodels.api as sm\n",
        "from statsmodels.formula.api import ols\n",
        "# Ordinary Least Squares (OLS) model\n",
        "# C(Genotype):C(years) represent interaction term\n",
        "model = ols('value ~ C(Genotype) + C(years) + C(Genotype):C(years)', data=d_melt).fit()\n",
        "anova_table = sm.stats.anova_lm(model, typ=2)\n",
        "anova_table"
      ],
      "execution_count": 11,
      "outputs": [
        {
          "output_type": "execute_result",
          "data": {
            "text/html": [
              "<div>\n",
              "<style scoped>\n",
              "    .dataframe tbody tr th:only-of-type {\n",
              "        vertical-align: middle;\n",
              "    }\n",
              "\n",
              "    .dataframe tbody tr th {\n",
              "        vertical-align: top;\n",
              "    }\n",
              "\n",
              "    .dataframe thead th {\n",
              "        text-align: right;\n",
              "    }\n",
              "</style>\n",
              "<table border=\"1\" class=\"dataframe\">\n",
              "  <thead>\n",
              "    <tr style=\"text-align: right;\">\n",
              "      <th></th>\n",
              "      <th>sum_sq</th>\n",
              "      <th>df</th>\n",
              "      <th>F</th>\n",
              "      <th>PR(&gt;F)</th>\n",
              "    </tr>\n",
              "  </thead>\n",
              "  <tbody>\n",
              "    <tr>\n",
              "      <th>C(Genotype)</th>\n",
              "      <td>58.551733</td>\n",
              "      <td>5.0</td>\n",
              "      <td>32.748581</td>\n",
              "      <td>1.931655e-12</td>\n",
              "    </tr>\n",
              "    <tr>\n",
              "      <th>C(years)</th>\n",
              "      <td>278.925633</td>\n",
              "      <td>2.0</td>\n",
              "      <td>390.014868</td>\n",
              "      <td>4.006243e-25</td>\n",
              "    </tr>\n",
              "    <tr>\n",
              "      <th>C(Genotype):C(years)</th>\n",
              "      <td>17.122967</td>\n",
              "      <td>10.0</td>\n",
              "      <td>4.788525</td>\n",
              "      <td>2.230094e-04</td>\n",
              "    </tr>\n",
              "    <tr>\n",
              "      <th>Residual</th>\n",
              "      <td>12.873000</td>\n",
              "      <td>36.0</td>\n",
              "      <td>NaN</td>\n",
              "      <td>NaN</td>\n",
              "    </tr>\n",
              "  </tbody>\n",
              "</table>\n",
              "</div>"
            ],
            "text/plain": [
              "                          sum_sq    df           F        PR(>F)\n",
              "C(Genotype)            58.551733   5.0   32.748581  1.931655e-12\n",
              "C(years)              278.925633   2.0  390.014868  4.006243e-25\n",
              "C(Genotype):C(years)   17.122967  10.0    4.788525  2.230094e-04\n",
              "Residual               12.873000  36.0         NaN           NaN"
            ]
          },
          "metadata": {
            "tags": []
          },
          "execution_count": 11
        }
      ]
    },
    {
      "cell_type": "markdown",
      "metadata": {
        "id": "rEoiVH1jjA9K"
      },
      "source": [
        "Interpretation: The P-value obtained from ANOVA analysis for genotype, years, and interaction are statistically significant (P<0.05). We conclude that type of genotype significantly affects the yield outcome, time (years) significantly affects the yield outcome, and interaction of both genotype and time (years) significantly affects the yield outcome.\n",
        "\n",
        "Note: If you have unbalanced (unequal sample size for each group) data, you can perform similar steps as described for two-way ANOVA with the balanced design but set `typ=3`. Type 3 sums of squares (SS) is recommended for an unbalanced design for multifactorial ANOVA.\n",
        "\n",
        "Now, we know that genotype and time (years) differences are statistically significant, but ANOVA does not tell which genotype and time (years) are significantly different from each other. To know the pairs of significant different genotype and time (years), perform multiple pairwise comparison (Post-hoc comparison) analysis using Tukey HSD test.\n",
        "\n",
        "# we will use bioinfokit (v1.0.1 or later) for performing tuke"
      ]
    },
    {
      "cell_type": "code",
      "metadata": {
        "id": "HFfQZrbAjClk",
        "outputId": "2a246e79-b18a-4f12-8551-e1822bf24350",
        "colab": {
          "base_uri": "https://localhost:8080/",
          "height": 491
        }
      },
      "source": [
        "from bioinfokit.analys import stat\n",
        "# perform multiple pairwise comparison (Tukey HSD)\n",
        "# unequal sample size data, tukey_hsd uses Tukey-Kramer test\n",
        "res = stat()\n",
        "# for main effect Genotype\n",
        "res.tukey_hsd(df=d_melt, res_var='value', xfac_var='Genotype', anova_model='value ~ C(Genotype) + C(years) + C(Genotype):C(years)')\n",
        "res.tukey_summary"
      ],
      "execution_count": 12,
      "outputs": [
        {
          "output_type": "execute_result",
          "data": {
            "text/html": [
              "<div>\n",
              "<style scoped>\n",
              "    .dataframe tbody tr th:only-of-type {\n",
              "        vertical-align: middle;\n",
              "    }\n",
              "\n",
              "    .dataframe tbody tr th {\n",
              "        vertical-align: top;\n",
              "    }\n",
              "\n",
              "    .dataframe thead th {\n",
              "        text-align: right;\n",
              "    }\n",
              "</style>\n",
              "<table border=\"1\" class=\"dataframe\">\n",
              "  <thead>\n",
              "    <tr style=\"text-align: right;\">\n",
              "      <th></th>\n",
              "      <th>group1</th>\n",
              "      <th>group2</th>\n",
              "      <th>Diff</th>\n",
              "      <th>Lower</th>\n",
              "      <th>Upper</th>\n",
              "      <th>q-value</th>\n",
              "      <th>p-value</th>\n",
              "    </tr>\n",
              "  </thead>\n",
              "  <tbody>\n",
              "    <tr>\n",
              "      <th>0</th>\n",
              "      <td>A</td>\n",
              "      <td>B</td>\n",
              "      <td>2.040000</td>\n",
              "      <td>1.191912</td>\n",
              "      <td>2.888088</td>\n",
              "      <td>10.234409</td>\n",
              "      <td>0.001000</td>\n",
              "    </tr>\n",
              "    <tr>\n",
              "      <th>1</th>\n",
              "      <td>A</td>\n",
              "      <td>C</td>\n",
              "      <td>2.733333</td>\n",
              "      <td>1.885245</td>\n",
              "      <td>3.581421</td>\n",
              "      <td>13.712771</td>\n",
              "      <td>0.001000</td>\n",
              "    </tr>\n",
              "    <tr>\n",
              "      <th>2</th>\n",
              "      <td>A</td>\n",
              "      <td>D</td>\n",
              "      <td>2.560000</td>\n",
              "      <td>1.711912</td>\n",
              "      <td>3.408088</td>\n",
              "      <td>12.843180</td>\n",
              "      <td>0.001000</td>\n",
              "    </tr>\n",
              "    <tr>\n",
              "      <th>3</th>\n",
              "      <td>A</td>\n",
              "      <td>E</td>\n",
              "      <td>0.720000</td>\n",
              "      <td>-0.128088</td>\n",
              "      <td>1.568088</td>\n",
              "      <td>3.612145</td>\n",
              "      <td>0.135306</td>\n",
              "    </tr>\n",
              "    <tr>\n",
              "      <th>4</th>\n",
              "      <td>A</td>\n",
              "      <td>F</td>\n",
              "      <td>2.573333</td>\n",
              "      <td>1.725245</td>\n",
              "      <td>3.421421</td>\n",
              "      <td>12.910072</td>\n",
              "      <td>0.001000</td>\n",
              "    </tr>\n",
              "    <tr>\n",
              "      <th>5</th>\n",
              "      <td>B</td>\n",
              "      <td>C</td>\n",
              "      <td>0.693333</td>\n",
              "      <td>-0.154755</td>\n",
              "      <td>1.541421</td>\n",
              "      <td>3.478361</td>\n",
              "      <td>0.163609</td>\n",
              "    </tr>\n",
              "    <tr>\n",
              "      <th>6</th>\n",
              "      <td>B</td>\n",
              "      <td>D</td>\n",
              "      <td>0.520000</td>\n",
              "      <td>-0.328088</td>\n",
              "      <td>1.368088</td>\n",
              "      <td>2.608771</td>\n",
              "      <td>0.453066</td>\n",
              "    </tr>\n",
              "    <tr>\n",
              "      <th>7</th>\n",
              "      <td>B</td>\n",
              "      <td>E</td>\n",
              "      <td>1.320000</td>\n",
              "      <td>0.471912</td>\n",
              "      <td>2.168088</td>\n",
              "      <td>6.622265</td>\n",
              "      <td>0.001000</td>\n",
              "    </tr>\n",
              "    <tr>\n",
              "      <th>8</th>\n",
              "      <td>B</td>\n",
              "      <td>F</td>\n",
              "      <td>0.533333</td>\n",
              "      <td>-0.314755</td>\n",
              "      <td>1.381421</td>\n",
              "      <td>2.675663</td>\n",
              "      <td>0.425189</td>\n",
              "    </tr>\n",
              "    <tr>\n",
              "      <th>9</th>\n",
              "      <td>C</td>\n",
              "      <td>D</td>\n",
              "      <td>0.173333</td>\n",
              "      <td>-0.674755</td>\n",
              "      <td>1.021421</td>\n",
              "      <td>0.869590</td>\n",
              "      <td>0.900000</td>\n",
              "    </tr>\n",
              "    <tr>\n",
              "      <th>10</th>\n",
              "      <td>C</td>\n",
              "      <td>E</td>\n",
              "      <td>2.013333</td>\n",
              "      <td>1.165245</td>\n",
              "      <td>2.861421</td>\n",
              "      <td>10.100626</td>\n",
              "      <td>0.001000</td>\n",
              "    </tr>\n",
              "    <tr>\n",
              "      <th>11</th>\n",
              "      <td>C</td>\n",
              "      <td>F</td>\n",
              "      <td>0.160000</td>\n",
              "      <td>-0.688088</td>\n",
              "      <td>1.008088</td>\n",
              "      <td>0.802699</td>\n",
              "      <td>0.900000</td>\n",
              "    </tr>\n",
              "    <tr>\n",
              "      <th>12</th>\n",
              "      <td>D</td>\n",
              "      <td>E</td>\n",
              "      <td>1.840000</td>\n",
              "      <td>0.991912</td>\n",
              "      <td>2.688088</td>\n",
              "      <td>9.231036</td>\n",
              "      <td>0.001000</td>\n",
              "    </tr>\n",
              "    <tr>\n",
              "      <th>13</th>\n",
              "      <td>D</td>\n",
              "      <td>F</td>\n",
              "      <td>0.013333</td>\n",
              "      <td>-0.834755</td>\n",
              "      <td>0.861421</td>\n",
              "      <td>0.066892</td>\n",
              "      <td>0.900000</td>\n",
              "    </tr>\n",
              "    <tr>\n",
              "      <th>14</th>\n",
              "      <td>E</td>\n",
              "      <td>F</td>\n",
              "      <td>1.853333</td>\n",
              "      <td>1.005245</td>\n",
              "      <td>2.701421</td>\n",
              "      <td>9.297928</td>\n",
              "      <td>0.001000</td>\n",
              "    </tr>\n",
              "  </tbody>\n",
              "</table>\n",
              "</div>"
            ],
            "text/plain": [
              "   group1 group2      Diff     Lower     Upper    q-value   p-value\n",
              "0       A      B  2.040000  1.191912  2.888088  10.234409  0.001000\n",
              "1       A      C  2.733333  1.885245  3.581421  13.712771  0.001000\n",
              "2       A      D  2.560000  1.711912  3.408088  12.843180  0.001000\n",
              "3       A      E  0.720000 -0.128088  1.568088   3.612145  0.135306\n",
              "4       A      F  2.573333  1.725245  3.421421  12.910072  0.001000\n",
              "5       B      C  0.693333 -0.154755  1.541421   3.478361  0.163609\n",
              "6       B      D  0.520000 -0.328088  1.368088   2.608771  0.453066\n",
              "7       B      E  1.320000  0.471912  2.168088   6.622265  0.001000\n",
              "8       B      F  0.533333 -0.314755  1.381421   2.675663  0.425189\n",
              "9       C      D  0.173333 -0.674755  1.021421   0.869590  0.900000\n",
              "10      C      E  2.013333  1.165245  2.861421  10.100626  0.001000\n",
              "11      C      F  0.160000 -0.688088  1.008088   0.802699  0.900000\n",
              "12      D      E  1.840000  0.991912  2.688088   9.231036  0.001000\n",
              "13      D      F  0.013333 -0.834755  0.861421   0.066892  0.900000\n",
              "14      E      F  1.853333  1.005245  2.701421   9.297928  0.001000"
            ]
          },
          "metadata": {
            "tags": []
          },
          "execution_count": 12
        }
      ]
    },
    {
      "cell_type": "code",
      "metadata": {
        "id": "xYlGZ37kjMIZ",
        "outputId": "1018b345-cc69-43e3-d37e-5aa4bcc92998",
        "colab": {
          "base_uri": "https://localhost:8080/",
          "height": 136
        }
      },
      "source": [
        "res.tukey_hsd(df=d_melt, res_var='value', xfac_var='years', anova_model='value ~ C(Genotype) + C(years) + C(Genotype):C(years)')\n",
        "res.tukey_summary\n",
        "# output\n",
        "\n"
      ],
      "execution_count": 14,
      "outputs": [
        {
          "output_type": "execute_result",
          "data": {
            "text/html": [
              "<div>\n",
              "<style scoped>\n",
              "    .dataframe tbody tr th:only-of-type {\n",
              "        vertical-align: middle;\n",
              "    }\n",
              "\n",
              "    .dataframe tbody tr th {\n",
              "        vertical-align: top;\n",
              "    }\n",
              "\n",
              "    .dataframe thead th {\n",
              "        text-align: right;\n",
              "    }\n",
              "</style>\n",
              "<table border=\"1\" class=\"dataframe\">\n",
              "  <thead>\n",
              "    <tr style=\"text-align: right;\">\n",
              "      <th></th>\n",
              "      <th>group1</th>\n",
              "      <th>group2</th>\n",
              "      <th>Diff</th>\n",
              "      <th>Lower</th>\n",
              "      <th>Upper</th>\n",
              "      <th>q-value</th>\n",
              "      <th>p-value</th>\n",
              "    </tr>\n",
              "  </thead>\n",
              "  <tbody>\n",
              "    <tr>\n",
              "      <th>0</th>\n",
              "      <td>1_year</td>\n",
              "      <td>2_year</td>\n",
              "      <td>2.146667</td>\n",
              "      <td>1.659513</td>\n",
              "      <td>2.633821</td>\n",
              "      <td>15.230432</td>\n",
              "      <td>0.001</td>\n",
              "    </tr>\n",
              "    <tr>\n",
              "      <th>1</th>\n",
              "      <td>1_year</td>\n",
              "      <td>3_year</td>\n",
              "      <td>5.521667</td>\n",
              "      <td>5.034513</td>\n",
              "      <td>6.008821</td>\n",
              "      <td>39.175794</td>\n",
              "      <td>0.001</td>\n",
              "    </tr>\n",
              "    <tr>\n",
              "      <th>2</th>\n",
              "      <td>2_year</td>\n",
              "      <td>3_year</td>\n",
              "      <td>3.375000</td>\n",
              "      <td>2.887846</td>\n",
              "      <td>3.862154</td>\n",
              "      <td>23.945361</td>\n",
              "      <td>0.001</td>\n",
              "    </tr>\n",
              "  </tbody>\n",
              "</table>\n",
              "</div>"
            ],
            "text/plain": [
              "   group1  group2      Diff     Lower     Upper    q-value  p-value\n",
              "0  1_year  2_year  2.146667  1.659513  2.633821  15.230432    0.001\n",
              "1  1_year  3_year  5.521667  5.034513  6.008821  39.175794    0.001\n",
              "2  2_year  3_year  3.375000  2.887846  3.862154  23.945361    0.001"
            ]
          },
          "metadata": {
            "tags": []
          },
          "execution_count": 14
        }
      ]
    },
    {
      "cell_type": "code",
      "metadata": {
        "id": "vCiHXnDpjSkr",
        "outputId": "746613c0-87db-48e1-d834-1e4e41c24603",
        "colab": {
          "base_uri": "https://localhost:8080/",
          "height": 195
        }
      },
      "source": [
        "# for interaction effect between genotype and years\n",
        "res.tukey_hsd(df=d_melt, res_var='value', xfac_var=['Genotype','years'], anova_model='value ~ C(Genotype) + C(years) + C(Genotype):C(years)')\n",
        "res.tukey_summary.head()"
      ],
      "execution_count": 15,
      "outputs": [
        {
          "output_type": "execute_result",
          "data": {
            "text/html": [
              "<div>\n",
              "<style scoped>\n",
              "    .dataframe tbody tr th:only-of-type {\n",
              "        vertical-align: middle;\n",
              "    }\n",
              "\n",
              "    .dataframe tbody tr th {\n",
              "        vertical-align: top;\n",
              "    }\n",
              "\n",
              "    .dataframe thead th {\n",
              "        text-align: right;\n",
              "    }\n",
              "</style>\n",
              "<table border=\"1\" class=\"dataframe\">\n",
              "  <thead>\n",
              "    <tr style=\"text-align: right;\">\n",
              "      <th></th>\n",
              "      <th>group1</th>\n",
              "      <th>group2</th>\n",
              "      <th>Diff</th>\n",
              "      <th>Lower</th>\n",
              "      <th>Upper</th>\n",
              "      <th>q-value</th>\n",
              "      <th>p-value</th>\n",
              "    </tr>\n",
              "  </thead>\n",
              "  <tbody>\n",
              "    <tr>\n",
              "      <th>0</th>\n",
              "      <td>(A, 1_year)</td>\n",
              "      <td>(A, 2_year)</td>\n",
              "      <td>2.38</td>\n",
              "      <td>0.548861</td>\n",
              "      <td>4.211139</td>\n",
              "      <td>6.893646</td>\n",
              "      <td>0.002439</td>\n",
              "    </tr>\n",
              "    <tr>\n",
              "      <th>1</th>\n",
              "      <td>(A, 1_year)</td>\n",
              "      <td>(A, 3_year)</td>\n",
              "      <td>4.75</td>\n",
              "      <td>2.918861</td>\n",
              "      <td>6.581139</td>\n",
              "      <td>13.758326</td>\n",
              "      <td>0.001000</td>\n",
              "    </tr>\n",
              "    <tr>\n",
              "      <th>2</th>\n",
              "      <td>(A, 1_year)</td>\n",
              "      <td>(B, 1_year)</td>\n",
              "      <td>1.94</td>\n",
              "      <td>0.108861</td>\n",
              "      <td>3.771139</td>\n",
              "      <td>5.619190</td>\n",
              "      <td>0.028673</td>\n",
              "    </tr>\n",
              "    <tr>\n",
              "      <th>3</th>\n",
              "      <td>(A, 1_year)</td>\n",
              "      <td>(B, 2_year)</td>\n",
              "      <td>4.41</td>\n",
              "      <td>2.578861</td>\n",
              "      <td>6.241139</td>\n",
              "      <td>12.773520</td>\n",
              "      <td>0.001000</td>\n",
              "    </tr>\n",
              "    <tr>\n",
              "      <th>4</th>\n",
              "      <td>(A, 1_year)</td>\n",
              "      <td>(B, 3_year)</td>\n",
              "      <td>6.90</td>\n",
              "      <td>5.068861</td>\n",
              "      <td>8.731139</td>\n",
              "      <td>19.985779</td>\n",
              "      <td>0.001000</td>\n",
              "    </tr>\n",
              "  </tbody>\n",
              "</table>\n",
              "</div>"
            ],
            "text/plain": [
              "        group1       group2  Diff     Lower     Upper    q-value   p-value\n",
              "0  (A, 1_year)  (A, 2_year)  2.38  0.548861  4.211139   6.893646  0.002439\n",
              "1  (A, 1_year)  (A, 3_year)  4.75  2.918861  6.581139  13.758326  0.001000\n",
              "2  (A, 1_year)  (B, 1_year)  1.94  0.108861  3.771139   5.619190  0.028673\n",
              "3  (A, 1_year)  (B, 2_year)  4.41  2.578861  6.241139  12.773520  0.001000\n",
              "4  (A, 1_year)  (B, 3_year)  6.90  5.068861  8.731139  19.985779  0.001000"
            ]
          },
          "metadata": {
            "tags": []
          },
          "execution_count": 15
        }
      ]
    }
  ]
}